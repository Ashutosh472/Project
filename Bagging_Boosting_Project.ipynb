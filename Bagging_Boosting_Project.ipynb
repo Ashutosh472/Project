{
  "nbformat": 4,
  "nbformat_minor": 0,
  "metadata": {
    "colab": {
      "provenance": [],
      "collapsed_sections": [],
      "include_colab_link": true
    },
    "kernelspec": {
      "name": "python3",
      "display_name": "Python 3"
    }
  },
  "cells": [
    {
      "cell_type": "markdown",
      "metadata": {
        "id": "view-in-github",
        "colab_type": "text"
      },
      "source": [
        "<a href=\"https://colab.research.google.com/github/Ashutosh472/Project/blob/main/Bagging_Boosting_Project.ipynb\" target=\"_parent\"><img src=\"https://colab.research.google.com/assets/colab-badge.svg\" alt=\"Open In Colab\"/></a>"
      ]
    },
    {
      "cell_type": "markdown",
      "metadata": {
        "id": "9HsIZ9HXsK_9"
      },
      "source": [
        "###### **Explore the dataset for anomalies and missing values and take corrective actions if necessary.**"
      ]
    },
    {
      "cell_type": "code",
      "metadata": {
        "id": "0-zT55GN14Q3"
      },
      "source": [
        "import pandas as pd\n",
        "import numpy as np\n",
        "import warnings\n",
        "warnings.filterwarnings('ignore')\n",
        "import seaborn as sns\n",
        "import matplotlib.pyplot as plt\n",
        "%matplotlib inline\n",
        "sns.set(style='white', color_codes=True)"
      ],
      "execution_count": null,
      "outputs": []
    },
    {
      "cell_type": "code",
      "metadata": {
        "id": "T5jJwDmu2HL2"
      },
      "source": [
        "df=pd.read_csv(\"/content/talking_data.csv\")"
      ],
      "execution_count": null,
      "outputs": []
    },
    {
      "cell_type": "code",
      "metadata": {
        "colab": {
          "base_uri": "https://localhost:8080/",
          "height": 206
        },
        "id": "xEsZr3xU2UD9",
        "outputId": "08aaf914-54a4-458b-dbb6-5ac7a3986c93"
      },
      "source": [
        "df.head()"
      ],
      "execution_count": null,
      "outputs": [
        {
          "output_type": "execute_result",
          "data": {
            "text/plain": [
              "       ip  app  device  os  channel           click_time attributed_time  \\\n",
              "0   87540   12       1  13      497  2017-11-07 09:30:38             NaN   \n",
              "1  105560   25       1  17      259  2017-11-07 13:40:27             NaN   \n",
              "2  101424   12       1  19      212  2017-11-07 18:05:24             NaN   \n",
              "3   94584   13       1  13      477  2017-11-07 04:58:08             NaN   \n",
              "4   68413   12       1   1      178  2017-11-09 09:00:09             NaN   \n",
              "\n",
              "   is_attributed  \n",
              "0              0  \n",
              "1              0  \n",
              "2              0  \n",
              "3              0  \n",
              "4              0  "
            ],
            "text/html": [
              "\n",
              "  <div id=\"df-a96cca7d-8fd5-41ae-8942-64fff901e746\">\n",
              "    <div class=\"colab-df-container\">\n",
              "      <div>\n",
              "<style scoped>\n",
              "    .dataframe tbody tr th:only-of-type {\n",
              "        vertical-align: middle;\n",
              "    }\n",
              "\n",
              "    .dataframe tbody tr th {\n",
              "        vertical-align: top;\n",
              "    }\n",
              "\n",
              "    .dataframe thead th {\n",
              "        text-align: right;\n",
              "    }\n",
              "</style>\n",
              "<table border=\"1\" class=\"dataframe\">\n",
              "  <thead>\n",
              "    <tr style=\"text-align: right;\">\n",
              "      <th></th>\n",
              "      <th>ip</th>\n",
              "      <th>app</th>\n",
              "      <th>device</th>\n",
              "      <th>os</th>\n",
              "      <th>channel</th>\n",
              "      <th>click_time</th>\n",
              "      <th>attributed_time</th>\n",
              "      <th>is_attributed</th>\n",
              "    </tr>\n",
              "  </thead>\n",
              "  <tbody>\n",
              "    <tr>\n",
              "      <th>0</th>\n",
              "      <td>87540</td>\n",
              "      <td>12</td>\n",
              "      <td>1</td>\n",
              "      <td>13</td>\n",
              "      <td>497</td>\n",
              "      <td>2017-11-07 09:30:38</td>\n",
              "      <td>NaN</td>\n",
              "      <td>0</td>\n",
              "    </tr>\n",
              "    <tr>\n",
              "      <th>1</th>\n",
              "      <td>105560</td>\n",
              "      <td>25</td>\n",
              "      <td>1</td>\n",
              "      <td>17</td>\n",
              "      <td>259</td>\n",
              "      <td>2017-11-07 13:40:27</td>\n",
              "      <td>NaN</td>\n",
              "      <td>0</td>\n",
              "    </tr>\n",
              "    <tr>\n",
              "      <th>2</th>\n",
              "      <td>101424</td>\n",
              "      <td>12</td>\n",
              "      <td>1</td>\n",
              "      <td>19</td>\n",
              "      <td>212</td>\n",
              "      <td>2017-11-07 18:05:24</td>\n",
              "      <td>NaN</td>\n",
              "      <td>0</td>\n",
              "    </tr>\n",
              "    <tr>\n",
              "      <th>3</th>\n",
              "      <td>94584</td>\n",
              "      <td>13</td>\n",
              "      <td>1</td>\n",
              "      <td>13</td>\n",
              "      <td>477</td>\n",
              "      <td>2017-11-07 04:58:08</td>\n",
              "      <td>NaN</td>\n",
              "      <td>0</td>\n",
              "    </tr>\n",
              "    <tr>\n",
              "      <th>4</th>\n",
              "      <td>68413</td>\n",
              "      <td>12</td>\n",
              "      <td>1</td>\n",
              "      <td>1</td>\n",
              "      <td>178</td>\n",
              "      <td>2017-11-09 09:00:09</td>\n",
              "      <td>NaN</td>\n",
              "      <td>0</td>\n",
              "    </tr>\n",
              "  </tbody>\n",
              "</table>\n",
              "</div>\n",
              "      <button class=\"colab-df-convert\" onclick=\"convertToInteractive('df-a96cca7d-8fd5-41ae-8942-64fff901e746')\"\n",
              "              title=\"Convert this dataframe to an interactive table.\"\n",
              "              style=\"display:none;\">\n",
              "        \n",
              "  <svg xmlns=\"http://www.w3.org/2000/svg\" height=\"24px\"viewBox=\"0 0 24 24\"\n",
              "       width=\"24px\">\n",
              "    <path d=\"M0 0h24v24H0V0z\" fill=\"none\"/>\n",
              "    <path d=\"M18.56 5.44l.94 2.06.94-2.06 2.06-.94-2.06-.94-.94-2.06-.94 2.06-2.06.94zm-11 1L8.5 8.5l.94-2.06 2.06-.94-2.06-.94L8.5 2.5l-.94 2.06-2.06.94zm10 10l.94 2.06.94-2.06 2.06-.94-2.06-.94-.94-2.06-.94 2.06-2.06.94z\"/><path d=\"M17.41 7.96l-1.37-1.37c-.4-.4-.92-.59-1.43-.59-.52 0-1.04.2-1.43.59L10.3 9.45l-7.72 7.72c-.78.78-.78 2.05 0 2.83L4 21.41c.39.39.9.59 1.41.59.51 0 1.02-.2 1.41-.59l7.78-7.78 2.81-2.81c.8-.78.8-2.07 0-2.86zM5.41 20L4 18.59l7.72-7.72 1.47 1.35L5.41 20z\"/>\n",
              "  </svg>\n",
              "      </button>\n",
              "      \n",
              "  <style>\n",
              "    .colab-df-container {\n",
              "      display:flex;\n",
              "      flex-wrap:wrap;\n",
              "      gap: 12px;\n",
              "    }\n",
              "\n",
              "    .colab-df-convert {\n",
              "      background-color: #E8F0FE;\n",
              "      border: none;\n",
              "      border-radius: 50%;\n",
              "      cursor: pointer;\n",
              "      display: none;\n",
              "      fill: #1967D2;\n",
              "      height: 32px;\n",
              "      padding: 0 0 0 0;\n",
              "      width: 32px;\n",
              "    }\n",
              "\n",
              "    .colab-df-convert:hover {\n",
              "      background-color: #E2EBFA;\n",
              "      box-shadow: 0px 1px 2px rgba(60, 64, 67, 0.3), 0px 1px 3px 1px rgba(60, 64, 67, 0.15);\n",
              "      fill: #174EA6;\n",
              "    }\n",
              "\n",
              "    [theme=dark] .colab-df-convert {\n",
              "      background-color: #3B4455;\n",
              "      fill: #D2E3FC;\n",
              "    }\n",
              "\n",
              "    [theme=dark] .colab-df-convert:hover {\n",
              "      background-color: #434B5C;\n",
              "      box-shadow: 0px 1px 3px 1px rgba(0, 0, 0, 0.15);\n",
              "      filter: drop-shadow(0px 1px 2px rgba(0, 0, 0, 0.3));\n",
              "      fill: #FFFFFF;\n",
              "    }\n",
              "  </style>\n",
              "\n",
              "      <script>\n",
              "        const buttonEl =\n",
              "          document.querySelector('#df-a96cca7d-8fd5-41ae-8942-64fff901e746 button.colab-df-convert');\n",
              "        buttonEl.style.display =\n",
              "          google.colab.kernel.accessAllowed ? 'block' : 'none';\n",
              "\n",
              "        async function convertToInteractive(key) {\n",
              "          const element = document.querySelector('#df-a96cca7d-8fd5-41ae-8942-64fff901e746');\n",
              "          const dataTable =\n",
              "            await google.colab.kernel.invokeFunction('convertToInteractive',\n",
              "                                                     [key], {});\n",
              "          if (!dataTable) return;\n",
              "\n",
              "          const docLinkHtml = 'Like what you see? Visit the ' +\n",
              "            '<a target=\"_blank\" href=https://colab.research.google.com/notebooks/data_table.ipynb>data table notebook</a>'\n",
              "            + ' to learn more about interactive tables.';\n",
              "          element.innerHTML = '';\n",
              "          dataTable['output_type'] = 'display_data';\n",
              "          await google.colab.output.renderOutput(dataTable, element);\n",
              "          const docLink = document.createElement('div');\n",
              "          docLink.innerHTML = docLinkHtml;\n",
              "          element.appendChild(docLink);\n",
              "        }\n",
              "      </script>\n",
              "    </div>\n",
              "  </div>\n",
              "  "
            ]
          },
          "metadata": {},
          "execution_count": 6
        }
      ]
    },
    {
      "cell_type": "code",
      "metadata": {
        "colab": {
          "base_uri": "https://localhost:8080/"
        },
        "id": "846EW0dl3AcE",
        "outputId": "2220ac2a-2168-44b0-e70b-f6f3a2700ad1"
      },
      "source": [
        "df.isnull().values.any()"
      ],
      "execution_count": null,
      "outputs": [
        {
          "output_type": "execute_result",
          "data": {
            "text/plain": [
              "True"
            ]
          },
          "metadata": {},
          "execution_count": 11
        }
      ]
    },
    {
      "cell_type": "code",
      "metadata": {
        "colab": {
          "base_uri": "https://localhost:8080/"
        },
        "id": "2mt2ogxP5Dib",
        "outputId": "6d0ea625-f7eb-4237-9a13-3e669f940bd6"
      },
      "source": [
        "miss_val = df.isna().sum()\n",
        "miss_val"
      ],
      "execution_count": null,
      "outputs": [
        {
          "output_type": "execute_result",
          "data": {
            "text/plain": [
              "ip                     0\n",
              "app                    0\n",
              "device                 0\n",
              "os                     0\n",
              "channel                0\n",
              "click_time             0\n",
              "attributed_time    99773\n",
              "is_attributed          0\n",
              "dtype: int64"
            ]
          },
          "metadata": {},
          "execution_count": 12
        }
      ]
    },
    {
      "cell_type": "markdown",
      "metadata": {
        "id": "uDFAJOPbsVn2"
      },
      "source": [
        "###### **Which column has maximum number of unique values present among all the available columns**"
      ]
    },
    {
      "cell_type": "code",
      "metadata": {
        "colab": {
          "base_uri": "https://localhost:8080/"
        },
        "id": "UzgPeVQk5S3E",
        "outputId": "b44b6d3c-16d1-4a17-e437-9c2275f2a30b"
      },
      "source": [
        "print(\"Column Names:\",df.columns.values)"
      ],
      "execution_count": null,
      "outputs": [
        {
          "output_type": "stream",
          "name": "stdout",
          "text": [
            "Column Names: ['ip' 'app' 'device' 'os' 'channel' 'click_time' 'attributed_time'\n",
            " 'is_attributed']\n"
          ]
        }
      ]
    },
    {
      "cell_type": "code",
      "metadata": {
        "colab": {
          "base_uri": "https://localhost:8080/"
        },
        "id": "XWf6UwFJ5eXT",
        "outputId": "02088572-fba9-464e-e762-6e128b9bfafc"
      },
      "source": [
        "df['attributed_time'].value_counts()"
      ],
      "execution_count": null,
      "outputs": [
        {
          "output_type": "execute_result",
          "data": {
            "text/plain": [
              "2017-11-08 02:22:38    1\n",
              "2017-11-09 14:22:16    1\n",
              "2017-11-08 04:35:54    1\n",
              "2017-11-08 06:19:51    1\n",
              "2017-11-09 08:57:08    1\n",
              "                      ..\n",
              "2017-11-07 08:08:09    1\n",
              "2017-11-09 10:47:54    1\n",
              "2017-11-09 11:50:42    1\n",
              "2017-11-08 15:26:07    1\n",
              "2017-11-08 15:09:40    1\n",
              "Name: attributed_time, Length: 227, dtype: int64"
            ]
          },
          "metadata": {},
          "execution_count": 14
        }
      ]
    },
    {
      "cell_type": "code",
      "metadata": {
        "id": "t_EEStyl6Xvb"
      },
      "source": [
        "df.drop(['attributed_time'],axis=1,inplace=True)"
      ],
      "execution_count": null,
      "outputs": []
    },
    {
      "cell_type": "code",
      "metadata": {
        "colab": {
          "base_uri": "https://localhost:8080/"
        },
        "id": "cJAhhCio7O2Q",
        "outputId": "31fdf41f-a59d-4af5-bdba-e0c0d0484408"
      },
      "source": [
        "df['ip'].value_counts()"
      ],
      "execution_count": null,
      "outputs": [
        {
          "output_type": "execute_result",
          "data": {
            "text/plain": [
              "5348      669\n",
              "5314      616\n",
              "73487     439\n",
              "73516     399\n",
              "53454     280\n",
              "         ... \n",
              "109522      1\n",
              "140527      1\n",
              "351154      1\n",
              "195068      1\n",
              "185961      1\n",
              "Name: ip, Length: 34857, dtype: int64"
            ]
          },
          "metadata": {},
          "execution_count": 16
        }
      ]
    },
    {
      "cell_type": "code",
      "metadata": {
        "colab": {
          "base_uri": "https://localhost:8080/"
        },
        "id": "7lpbp1Mg7a7b",
        "outputId": "824aba7b-21aa-4d0c-fd3c-26db51deeaa3"
      },
      "source": [
        "df['ip'].unique()"
      ],
      "execution_count": null,
      "outputs": [
        {
          "output_type": "execute_result",
          "data": {
            "text/plain": [
              "array([ 87540, 105560, 101424, ..., 153487,  34029, 185961])"
            ]
          },
          "metadata": {},
          "execution_count": 17
        }
      ]
    },
    {
      "cell_type": "code",
      "metadata": {
        "colab": {
          "base_uri": "https://localhost:8080/"
        },
        "id": "WFBAKg5t7uz-",
        "outputId": "c9f62e9f-eacb-49c8-cf1f-12ef315dcc3a"
      },
      "source": [
        "df['app'].value_counts()"
      ],
      "execution_count": null,
      "outputs": [
        {
          "output_type": "execute_result",
          "data": {
            "text/plain": [
              "3      18279\n",
              "12     13198\n",
              "2      11737\n",
              "9       8992\n",
              "15      8595\n",
              "       ...  \n",
              "145        1\n",
              "97         1\n",
              "96         1\n",
              "267        1\n",
              "261        1\n",
              "Name: app, Length: 161, dtype: int64"
            ]
          },
          "metadata": {},
          "execution_count": 18
        }
      ]
    },
    {
      "cell_type": "code",
      "metadata": {
        "colab": {
          "base_uri": "https://localhost:8080/"
        },
        "id": "5XGI_Xu57zKl",
        "outputId": "f5496f1c-0b27-467f-ba8c-2dd38e56c090"
      },
      "source": [
        "df['app'].unique()"
      ],
      "execution_count": null,
      "outputs": [
        {
          "output_type": "execute_result",
          "data": {
            "text/plain": [
              "array([ 12,  25,  13,   3,   1,   9,   2,   6,  20,  14,  64,   7,  15,\n",
              "        18,  11,   8,  23,  21,  56,  28,  36,  22,  26,  17,  27,  10,\n",
              "        60,  58,  19,  32,  24,   4,  53, 125, 204,   5, 202,  70,  47,\n",
              "        29,  55, 103,  35,  83, 208, 146, 161,  46,  62,  65, 110,  42,\n",
              "       150, 266, 151, 148,  72, 310,  93,  94,  71,  43,  39, 170,  37,\n",
              "        68,  54, 107, 398, 160,  30, 183, 315,  45, 121,  38,  82, 134,\n",
              "        33, 233, 100,  44, 109,  59,  74,  61, 104,  66,  67, 273, 192,\n",
              "        50, 118, 372,  48, 232, 165,  91, 123,  88, 538,  49,  16, 105,\n",
              "       536, 216, 425, 117, 551,  99,  86, 101, 394,  78,  95, 181,  76,\n",
              "        34, 124, 548, 108,  85, 145,  79,  97,  75,  52, 215,  84,  96,\n",
              "        81, 139, 267,  80, 137, 119, 474, 158, 293, 122, 112, 149, 363,\n",
              "       271,  31, 171,  87, 168, 176, 347, 163, 190, 486, 133, 302, 268,\n",
              "       407, 116,  92, 115, 261])"
            ]
          },
          "metadata": {},
          "execution_count": 19
        }
      ]
    },
    {
      "cell_type": "code",
      "metadata": {
        "colab": {
          "base_uri": "https://localhost:8080/"
        },
        "id": "4VxL3hQ87-gj",
        "outputId": "6dc32f8f-2282-4ce6-8dbf-0ab9de0cd4e2"
      },
      "source": [
        "df['device'].value_counts()"
      ],
      "execution_count": null,
      "outputs": [
        {
          "output_type": "execute_result",
          "data": {
            "text/plain": [
              "1       94338\n",
              "2        4345\n",
              "0         541\n",
              "3032      371\n",
              "3543      151\n",
              "        ...  \n",
              "374         1\n",
              "76          1\n",
              "3282        1\n",
              "129         1\n",
              "241         1\n",
              "Name: device, Length: 100, dtype: int64"
            ]
          },
          "metadata": {},
          "execution_count": 20
        }
      ]
    },
    {
      "cell_type": "code",
      "metadata": {
        "colab": {
          "base_uri": "https://localhost:8080/"
        },
        "id": "zWfau0ii7_dT",
        "outputId": "71a8dd9f-46ad-4a6b-fb17-4d8e44797a27"
      },
      "source": [
        "df['device'].unique()"
      ],
      "execution_count": null,
      "outputs": [
        {
          "output_type": "execute_result",
          "data": {
            "text/plain": [
              "array([   1,    2, 3866,    0, 3032, 3543,    7,   40,  385,   56, 3282,\n",
              "        103,   16,   21,   30,    4,   59,   33,  211,   20,    5,  883,\n",
              "        154,  607,  957,   37,  102,  124, 2429,   50,  116,   18,  579,\n",
              "        188,   74,  291,   36, 1482,  347,  160,   25,  486,  516,   97,\n",
              "        321,  196,  581,   53,  828,  114,  109,    6,  414,  351,   60,\n",
              "        106, 3867, 1422,  210,  374,   76,  182,  129,   79,  362,  100,\n",
              "       1728, 2120, 1318,  386,  558,  180,  167,  202,   17,  203, 1162,\n",
              "        657,   78,    9, 3545, 1839,  420, 2980,  552,   67, 1080,   11,\n",
              "       3331,  329,  596,  163,  549,   58,  268,  928,  220,   49, 1042,\n",
              "        241])"
            ]
          },
          "metadata": {},
          "execution_count": 21
        }
      ]
    },
    {
      "cell_type": "code",
      "metadata": {
        "colab": {
          "base_uri": "https://localhost:8080/"
        },
        "id": "9cv_3gd_8Q0M",
        "outputId": "27301209-3eb4-45bc-f251-a1440e66da33"
      },
      "source": [
        "df['os'].value_counts()"
      ],
      "execution_count": null,
      "outputs": [
        {
          "output_type": "execute_result",
          "data": {
            "text/plain": [
              "19     23870\n",
              "13     21223\n",
              "17      5232\n",
              "18      4830\n",
              "22      4039\n",
              "       ...  \n",
              "153        1\n",
              "142        1\n",
              "151        1\n",
              "113        1\n",
              "193        1\n",
              "Name: os, Length: 130, dtype: int64"
            ]
          },
          "metadata": {},
          "execution_count": 22
        }
      ]
    },
    {
      "cell_type": "code",
      "metadata": {
        "colab": {
          "base_uri": "https://localhost:8080/"
        },
        "id": "Xl1d_uU_8Pzj",
        "outputId": "9ede5fd4-9621-46ad-f37e-b865469a5230"
      },
      "source": [
        "df['os'].unique()"
      ],
      "execution_count": null,
      "outputs": [
        {
          "output_type": "execute_result",
          "data": {
            "text/plain": [
              "array([ 13,  17,  19,   1,  25,  22,  20,   2,  90,  10,  18,  40,  15,\n",
              "        27,  23,  53,  49,  37,  26,  41,   8,  11,   9,  14,  28,  47,\n",
              "         3,   6,  97,   4,  31,  16,  30,  32,  12,  46, 866,  65,  55,\n",
              "        29,  42,  39,  34, 607,  79,  35,  44,   7,   0, 748,  36,  99,\n",
              "        43,  21,  64,  58,  50,  24,  66,  57, 109,  70,  98, 836,  56,\n",
              "       108,  76, 137,  48,   5,  38,  63, 100,  62,  96,  88,  73,  74,\n",
              "       138,  45,  84,  52,  61, 172,  59,  81, 102,  77,  78,  60, 153,\n",
              "        80, 118,  69,  85, 151,  68, 178, 113, 192, 135, 198,  83, 112,\n",
              "        67, 132,  71, 142, 117, 111, 168, 106, 110, 129, 127, 107, 152,\n",
              "       155, 199, 133, 116,  92, 196,  87, 174, 207, 184, 114, 185, 193])"
            ]
          },
          "metadata": {},
          "execution_count": 23
        }
      ]
    },
    {
      "cell_type": "code",
      "metadata": {
        "colab": {
          "base_uri": "https://localhost:8080/"
        },
        "id": "u1yrITJe8bGr",
        "outputId": "9b1e3125-83fd-4cb0-f25a-f7218d7d5c2c"
      },
      "source": [
        "df['channel'].value_counts()"
      ],
      "execution_count": null,
      "outputs": [
        {
          "output_type": "execute_result",
          "data": {
            "text/plain": [
              "280    8114\n",
              "245    4802\n",
              "107    4543\n",
              "477    3960\n",
              "134    3224\n",
              "       ... \n",
              "114       1\n",
              "474       1\n",
              "261       1\n",
              "465       1\n",
              "4         1\n",
              "Name: channel, Length: 161, dtype: int64"
            ]
          },
          "metadata": {},
          "execution_count": 24
        }
      ]
    },
    {
      "cell_type": "code",
      "metadata": {
        "colab": {
          "base_uri": "https://localhost:8080/"
        },
        "id": "hxAYtIDj8yLT",
        "outputId": "26f1dd32-966a-456b-9b23-d55568d8cd81"
      },
      "source": [
        "df['channel'].unique()"
      ],
      "execution_count": null,
      "outputs": [
        {
          "output_type": "execute_result",
          "data": {
            "text/plain": [
              "array([497, 259, 212, 477, 178, 115, 135, 442, 364, 489, 205, 125, 280,\n",
              "       349, 265, 459, 215, 101, 122, 379, 386, 124, 140, 107, 245, 111,\n",
              "       134, 401, 137, 145, 278, 409, 153, 466, 128, 481, 334, 424, 406,\n",
              "       373, 377, 435, 452, 445, 439, 242, 315, 237,   3, 480, 116, 121,\n",
              "       400, 376, 469, 130, 371, 467, 113, 211, 496, 219, 478, 463, 105,\n",
              "        21, 347, 234, 236, 328, 173, 244, 232, 266, 258, 262, 213, 127,\n",
              "       319, 340, 412,  19, 243, 360, 417, 317, 160, 110, 282,  30, 421,\n",
              "       208, 402, 416, 325, 326, 224, 391, 448, 484,  13, 118, 126, 343,\n",
              "       253, 150, 487, 430, 182, 453, 449, 268,  17, 274, 123,  22, 456,\n",
              "       320, 120, 330, 277, 479, 420,  18, 203, 486, 446, 450, 272, 333,\n",
              "       210, 361, 490, 483, 488, 171, 138, 322, 457, 404, 411,   5, 332,\n",
              "       410, 356, 419, 460,  24, 353, 498, 174, 451, 341, 108, 114, 474,\n",
              "        15, 455, 261, 465,   4])"
            ]
          },
          "metadata": {},
          "execution_count": 25
        }
      ]
    },
    {
      "cell_type": "code",
      "metadata": {
        "colab": {
          "base_uri": "https://localhost:8080/"
        },
        "id": "Gc0rSdWK8pPy",
        "outputId": "65c76150-91be-4c9b-9f77-80648b1a65d6"
      },
      "source": [
        "df['click_time'].value_counts()"
      ],
      "execution_count": null,
      "outputs": [
        {
          "output_type": "execute_result",
          "data": {
            "text/plain": [
              "2017-11-08 12:01:02    7\n",
              "2017-11-07 05:00:11    6\n",
              "2017-11-09 14:46:23    6\n",
              "2017-11-07 04:36:16    6\n",
              "2017-11-08 13:32:05    6\n",
              "                      ..\n",
              "2017-11-07 08:31:55    1\n",
              "2017-11-08 23:35:15    1\n",
              "2017-11-08 10:01:33    1\n",
              "2017-11-09 11:01:52    1\n",
              "2017-11-09 13:25:41    1\n",
              "Name: click_time, Length: 80350, dtype: int64"
            ]
          },
          "metadata": {},
          "execution_count": 26
        }
      ]
    },
    {
      "cell_type": "code",
      "metadata": {
        "colab": {
          "base_uri": "https://localhost:8080/"
        },
        "id": "alFsxlXL8y_q",
        "outputId": "bc05d136-92a9-43fa-fbde-19183319a6a1"
      },
      "source": [
        "df['click_time'].unique()"
      ],
      "execution_count": null,
      "outputs": [
        {
          "output_type": "execute_result",
          "data": {
            "text/plain": [
              "array(['2017-11-07 09:30:38', '2017-11-07 13:40:27',\n",
              "       '2017-11-07 18:05:24', ..., '2017-11-09 04:21:28',\n",
              "       '2017-11-07 09:33:14', '2017-11-09 13:25:41'], dtype=object)"
            ]
          },
          "metadata": {},
          "execution_count": 27
        }
      ]
    },
    {
      "cell_type": "code",
      "metadata": {
        "colab": {
          "base_uri": "https://localhost:8080/"
        },
        "id": "Y_0qE9lj2fHb",
        "outputId": "941e1efd-7c6f-434d-ceb5-b343457e76bb"
      },
      "source": [
        "df['app'].value_counts()"
      ],
      "execution_count": null,
      "outputs": [
        {
          "output_type": "execute_result",
          "data": {
            "text/plain": [
              "3      18279\n",
              "12     13198\n",
              "2      11737\n",
              "9       8992\n",
              "15      8595\n",
              "       ...  \n",
              "145        1\n",
              "97         1\n",
              "96         1\n",
              "267        1\n",
              "261        1\n",
              "Name: app, Length: 161, dtype: int64"
            ]
          },
          "metadata": {},
          "execution_count": 28
        }
      ]
    },
    {
      "cell_type": "code",
      "metadata": {
        "colab": {
          "base_uri": "https://localhost:8080/"
        },
        "id": "OoKBXEwM5nHW",
        "outputId": "5f39c040-a693-48e0-a912-672b310c51ae"
      },
      "source": [
        "df.app.unique()"
      ],
      "execution_count": null,
      "outputs": [
        {
          "output_type": "execute_result",
          "data": {
            "text/plain": [
              "array([ 12,  25,  13,   3,   1,   9,   2,   6,  20,  14,  64,   7,  15,\n",
              "        18,  11,   8,  23,  21,  56,  28,  36,  22,  26,  17,  27,  10,\n",
              "        60,  58,  19,  32,  24,   4,  53, 125, 204,   5, 202,  70,  47,\n",
              "        29,  55, 103,  35,  83, 208, 146, 161,  46,  62,  65, 110,  42,\n",
              "       150, 266, 151, 148,  72, 310,  93,  94,  71,  43,  39, 170,  37,\n",
              "        68,  54, 107, 398, 160,  30, 183, 315,  45, 121,  38,  82, 134,\n",
              "        33, 233, 100,  44, 109,  59,  74,  61, 104,  66,  67, 273, 192,\n",
              "        50, 118, 372,  48, 232, 165,  91, 123,  88, 538,  49,  16, 105,\n",
              "       536, 216, 425, 117, 551,  99,  86, 101, 394,  78,  95, 181,  76,\n",
              "        34, 124, 548, 108,  85, 145,  79,  97,  75,  52, 215,  84,  96,\n",
              "        81, 139, 267,  80, 137, 119, 474, 158, 293, 122, 112, 149, 363,\n",
              "       271,  31, 171,  87, 168, 176, 347, 163, 190, 486, 133, 302, 268,\n",
              "       407, 116,  92, 115, 261])"
            ]
          },
          "metadata": {},
          "execution_count": 29
        }
      ]
    },
    {
      "cell_type": "code",
      "metadata": {
        "colab": {
          "base_uri": "https://localhost:8080/"
        },
        "id": "vgd09PA-6Bie",
        "outputId": "511d0abd-2e40-47ae-990c-1edeb7832c3a"
      },
      "source": [
        "df.app.mean()"
      ],
      "execution_count": null,
      "outputs": [
        {
          "output_type": "execute_result",
          "data": {
            "text/plain": [
              "12.04788"
            ]
          },
          "metadata": {},
          "execution_count": 30
        }
      ]
    },
    {
      "cell_type": "markdown",
      "metadata": {
        "id": "Xfl7eLpNserF"
      },
      "source": [
        "###### **Use an appropriate technique to get rid of all the apps that are very rare (say which comprise of lessthan 20% clicks) and plot the rest**\n"
      ]
    },
    {
      "cell_type": "code",
      "metadata": {
        "id": "AiqtI5ey9Re7"
      },
      "source": [
        "other = df.app <= 100\n",
        "df= df.drop(df[other].index, axis = 0, inplace = False)"
      ],
      "execution_count": null,
      "outputs": []
    },
    {
      "cell_type": "code",
      "metadata": {
        "colab": {
          "base_uri": "https://localhost:8080/"
        },
        "id": "DTUTPXj094yi",
        "outputId": "ff5d87f2-4430-45de-bb62-38a689ee35b0"
      },
      "source": [
        "df.app.unique()"
      ],
      "execution_count": null,
      "outputs": [
        {
          "output_type": "execute_result",
          "data": {
            "text/plain": [
              "array([125, 204, 202, 103, 208, 146, 161, 110, 150, 266, 151, 148, 310,\n",
              "       170, 107, 398, 160, 183, 315, 121, 134, 233, 109, 104, 273, 192,\n",
              "       118, 372, 232, 165, 123, 538, 105, 536, 216, 425, 117, 551, 101,\n",
              "       394, 181, 124, 548, 108, 145, 215, 139, 267, 137, 119, 474, 158,\n",
              "       293, 122, 112, 149, 363, 271, 171, 168, 176, 347, 163, 190, 486,\n",
              "       133, 302, 268, 407, 116, 115, 261])"
            ]
          },
          "metadata": {},
          "execution_count": 32
        }
      ]
    },
    {
      "cell_type": "code",
      "metadata": {
        "colab": {
          "base_uri": "https://localhost:8080/",
          "height": 206
        },
        "id": "GJHzQXtKBDFs",
        "outputId": "bf5dafd2-81c1-4ae8-e5dd-6632f56f7023"
      },
      "source": [
        "df.head()"
      ],
      "execution_count": null,
      "outputs": [
        {
          "output_type": "execute_result",
          "data": {
            "text/plain": [
              "          ip  app  device   os  channel           click_time  is_attributed\n",
              "497     7435  125       0    0      110  2017-11-08 11:24:09              0\n",
              "516    73516  204    3543  748      347  2017-11-08 14:12:37              0\n",
              "700    93620  202       1   22      421  2017-11-07 12:36:15              0\n",
              "1613  118383  103       1   13      379  2017-11-09 15:45:17              0\n",
              "2034   50474  208       1   19      330  2017-11-07 01:33:06              0"
            ],
            "text/html": [
              "\n",
              "  <div id=\"df-25c78995-04a1-47ef-8e8b-22d322eb8240\">\n",
              "    <div class=\"colab-df-container\">\n",
              "      <div>\n",
              "<style scoped>\n",
              "    .dataframe tbody tr th:only-of-type {\n",
              "        vertical-align: middle;\n",
              "    }\n",
              "\n",
              "    .dataframe tbody tr th {\n",
              "        vertical-align: top;\n",
              "    }\n",
              "\n",
              "    .dataframe thead th {\n",
              "        text-align: right;\n",
              "    }\n",
              "</style>\n",
              "<table border=\"1\" class=\"dataframe\">\n",
              "  <thead>\n",
              "    <tr style=\"text-align: right;\">\n",
              "      <th></th>\n",
              "      <th>ip</th>\n",
              "      <th>app</th>\n",
              "      <th>device</th>\n",
              "      <th>os</th>\n",
              "      <th>channel</th>\n",
              "      <th>click_time</th>\n",
              "      <th>is_attributed</th>\n",
              "    </tr>\n",
              "  </thead>\n",
              "  <tbody>\n",
              "    <tr>\n",
              "      <th>497</th>\n",
              "      <td>7435</td>\n",
              "      <td>125</td>\n",
              "      <td>0</td>\n",
              "      <td>0</td>\n",
              "      <td>110</td>\n",
              "      <td>2017-11-08 11:24:09</td>\n",
              "      <td>0</td>\n",
              "    </tr>\n",
              "    <tr>\n",
              "      <th>516</th>\n",
              "      <td>73516</td>\n",
              "      <td>204</td>\n",
              "      <td>3543</td>\n",
              "      <td>748</td>\n",
              "      <td>347</td>\n",
              "      <td>2017-11-08 14:12:37</td>\n",
              "      <td>0</td>\n",
              "    </tr>\n",
              "    <tr>\n",
              "      <th>700</th>\n",
              "      <td>93620</td>\n",
              "      <td>202</td>\n",
              "      <td>1</td>\n",
              "      <td>22</td>\n",
              "      <td>421</td>\n",
              "      <td>2017-11-07 12:36:15</td>\n",
              "      <td>0</td>\n",
              "    </tr>\n",
              "    <tr>\n",
              "      <th>1613</th>\n",
              "      <td>118383</td>\n",
              "      <td>103</td>\n",
              "      <td>1</td>\n",
              "      <td>13</td>\n",
              "      <td>379</td>\n",
              "      <td>2017-11-09 15:45:17</td>\n",
              "      <td>0</td>\n",
              "    </tr>\n",
              "    <tr>\n",
              "      <th>2034</th>\n",
              "      <td>50474</td>\n",
              "      <td>208</td>\n",
              "      <td>1</td>\n",
              "      <td>19</td>\n",
              "      <td>330</td>\n",
              "      <td>2017-11-07 01:33:06</td>\n",
              "      <td>0</td>\n",
              "    </tr>\n",
              "  </tbody>\n",
              "</table>\n",
              "</div>\n",
              "      <button class=\"colab-df-convert\" onclick=\"convertToInteractive('df-25c78995-04a1-47ef-8e8b-22d322eb8240')\"\n",
              "              title=\"Convert this dataframe to an interactive table.\"\n",
              "              style=\"display:none;\">\n",
              "        \n",
              "  <svg xmlns=\"http://www.w3.org/2000/svg\" height=\"24px\"viewBox=\"0 0 24 24\"\n",
              "       width=\"24px\">\n",
              "    <path d=\"M0 0h24v24H0V0z\" fill=\"none\"/>\n",
              "    <path d=\"M18.56 5.44l.94 2.06.94-2.06 2.06-.94-2.06-.94-.94-2.06-.94 2.06-2.06.94zm-11 1L8.5 8.5l.94-2.06 2.06-.94-2.06-.94L8.5 2.5l-.94 2.06-2.06.94zm10 10l.94 2.06.94-2.06 2.06-.94-2.06-.94-.94-2.06-.94 2.06-2.06.94z\"/><path d=\"M17.41 7.96l-1.37-1.37c-.4-.4-.92-.59-1.43-.59-.52 0-1.04.2-1.43.59L10.3 9.45l-7.72 7.72c-.78.78-.78 2.05 0 2.83L4 21.41c.39.39.9.59 1.41.59.51 0 1.02-.2 1.41-.59l7.78-7.78 2.81-2.81c.8-.78.8-2.07 0-2.86zM5.41 20L4 18.59l7.72-7.72 1.47 1.35L5.41 20z\"/>\n",
              "  </svg>\n",
              "      </button>\n",
              "      \n",
              "  <style>\n",
              "    .colab-df-container {\n",
              "      display:flex;\n",
              "      flex-wrap:wrap;\n",
              "      gap: 12px;\n",
              "    }\n",
              "\n",
              "    .colab-df-convert {\n",
              "      background-color: #E8F0FE;\n",
              "      border: none;\n",
              "      border-radius: 50%;\n",
              "      cursor: pointer;\n",
              "      display: none;\n",
              "      fill: #1967D2;\n",
              "      height: 32px;\n",
              "      padding: 0 0 0 0;\n",
              "      width: 32px;\n",
              "    }\n",
              "\n",
              "    .colab-df-convert:hover {\n",
              "      background-color: #E2EBFA;\n",
              "      box-shadow: 0px 1px 2px rgba(60, 64, 67, 0.3), 0px 1px 3px 1px rgba(60, 64, 67, 0.15);\n",
              "      fill: #174EA6;\n",
              "    }\n",
              "\n",
              "    [theme=dark] .colab-df-convert {\n",
              "      background-color: #3B4455;\n",
              "      fill: #D2E3FC;\n",
              "    }\n",
              "\n",
              "    [theme=dark] .colab-df-convert:hover {\n",
              "      background-color: #434B5C;\n",
              "      box-shadow: 0px 1px 3px 1px rgba(0, 0, 0, 0.15);\n",
              "      filter: drop-shadow(0px 1px 2px rgba(0, 0, 0, 0.3));\n",
              "      fill: #FFFFFF;\n",
              "    }\n",
              "  </style>\n",
              "\n",
              "      <script>\n",
              "        const buttonEl =\n",
              "          document.querySelector('#df-25c78995-04a1-47ef-8e8b-22d322eb8240 button.colab-df-convert');\n",
              "        buttonEl.style.display =\n",
              "          google.colab.kernel.accessAllowed ? 'block' : 'none';\n",
              "\n",
              "        async function convertToInteractive(key) {\n",
              "          const element = document.querySelector('#df-25c78995-04a1-47ef-8e8b-22d322eb8240');\n",
              "          const dataTable =\n",
              "            await google.colab.kernel.invokeFunction('convertToInteractive',\n",
              "                                                     [key], {});\n",
              "          if (!dataTable) return;\n",
              "\n",
              "          const docLinkHtml = 'Like what you see? Visit the ' +\n",
              "            '<a target=\"_blank\" href=https://colab.research.google.com/notebooks/data_table.ipynb>data table notebook</a>'\n",
              "            + ' to learn more about interactive tables.';\n",
              "          element.innerHTML = '';\n",
              "          dataTable['output_type'] = 'display_data';\n",
              "          await google.colab.output.renderOutput(dataTable, element);\n",
              "          const docLink = document.createElement('div');\n",
              "          docLink.innerHTML = docLinkHtml;\n",
              "          element.appendChild(docLink);\n",
              "        }\n",
              "      </script>\n",
              "    </div>\n",
              "  </div>\n",
              "  "
            ]
          },
          "metadata": {},
          "execution_count": 33
        }
      ]
    },
    {
      "cell_type": "code",
      "metadata": {
        "colab": {
          "base_uri": "https://localhost:8080/"
        },
        "id": "HBnZ5UCRB9mM",
        "outputId": "937f8790-1fa6-4829-b327-f31ad44b4a3a"
      },
      "source": [
        "df.info()"
      ],
      "execution_count": null,
      "outputs": [
        {
          "output_type": "stream",
          "name": "stdout",
          "text": [
            "<class 'pandas.core.frame.DataFrame'>\n",
            "Int64Index: 427 entries, 497 to 99565\n",
            "Data columns (total 7 columns):\n",
            " #   Column         Non-Null Count  Dtype \n",
            "---  ------         --------------  ----- \n",
            " 0   ip             427 non-null    int64 \n",
            " 1   app            427 non-null    int64 \n",
            " 2   device         427 non-null    int64 \n",
            " 3   os             427 non-null    int64 \n",
            " 4   channel        427 non-null    int64 \n",
            " 5   click_time     427 non-null    object\n",
            " 6   is_attributed  427 non-null    int64 \n",
            "dtypes: int64(6), object(1)\n",
            "memory usage: 26.7+ KB\n"
          ]
        }
      ]
    },
    {
      "cell_type": "code",
      "metadata": {
        "id": "i76o7-edJTvQ"
      },
      "source": [
        "df['click_time']=pd.to_datetime(df['click_time'])"
      ],
      "execution_count": null,
      "outputs": []
    },
    {
      "cell_type": "code",
      "metadata": {
        "colab": {
          "base_uri": "https://localhost:8080/",
          "height": 206
        },
        "id": "PW7VWyaTBf8X",
        "outputId": "e7cd356a-f745-4d2d-9c00-0b4cd084f30f"
      },
      "source": [
        "import datetime\n",
        "df['day_of_week'] = df['click_time'].dt.strftime(\"%A\")\n",
        "df.head()"
      ],
      "execution_count": null,
      "outputs": [
        {
          "output_type": "execute_result",
          "data": {
            "text/plain": [
              "          ip  app  device   os  channel          click_time  is_attributed  \\\n",
              "497     7435  125       0    0      110 2017-11-08 11:24:09              0   \n",
              "516    73516  204    3543  748      347 2017-11-08 14:12:37              0   \n",
              "700    93620  202       1   22      421 2017-11-07 12:36:15              0   \n",
              "1613  118383  103       1   13      379 2017-11-09 15:45:17              0   \n",
              "2034   50474  208       1   19      330 2017-11-07 01:33:06              0   \n",
              "\n",
              "     day_of_week  \n",
              "497    Wednesday  \n",
              "516    Wednesday  \n",
              "700      Tuesday  \n",
              "1613    Thursday  \n",
              "2034     Tuesday  "
            ],
            "text/html": [
              "\n",
              "  <div id=\"df-7a74cd0d-c14f-4105-a11a-d368737f479a\">\n",
              "    <div class=\"colab-df-container\">\n",
              "      <div>\n",
              "<style scoped>\n",
              "    .dataframe tbody tr th:only-of-type {\n",
              "        vertical-align: middle;\n",
              "    }\n",
              "\n",
              "    .dataframe tbody tr th {\n",
              "        vertical-align: top;\n",
              "    }\n",
              "\n",
              "    .dataframe thead th {\n",
              "        text-align: right;\n",
              "    }\n",
              "</style>\n",
              "<table border=\"1\" class=\"dataframe\">\n",
              "  <thead>\n",
              "    <tr style=\"text-align: right;\">\n",
              "      <th></th>\n",
              "      <th>ip</th>\n",
              "      <th>app</th>\n",
              "      <th>device</th>\n",
              "      <th>os</th>\n",
              "      <th>channel</th>\n",
              "      <th>click_time</th>\n",
              "      <th>is_attributed</th>\n",
              "      <th>day_of_week</th>\n",
              "    </tr>\n",
              "  </thead>\n",
              "  <tbody>\n",
              "    <tr>\n",
              "      <th>497</th>\n",
              "      <td>7435</td>\n",
              "      <td>125</td>\n",
              "      <td>0</td>\n",
              "      <td>0</td>\n",
              "      <td>110</td>\n",
              "      <td>2017-11-08 11:24:09</td>\n",
              "      <td>0</td>\n",
              "      <td>Wednesday</td>\n",
              "    </tr>\n",
              "    <tr>\n",
              "      <th>516</th>\n",
              "      <td>73516</td>\n",
              "      <td>204</td>\n",
              "      <td>3543</td>\n",
              "      <td>748</td>\n",
              "      <td>347</td>\n",
              "      <td>2017-11-08 14:12:37</td>\n",
              "      <td>0</td>\n",
              "      <td>Wednesday</td>\n",
              "    </tr>\n",
              "    <tr>\n",
              "      <th>700</th>\n",
              "      <td>93620</td>\n",
              "      <td>202</td>\n",
              "      <td>1</td>\n",
              "      <td>22</td>\n",
              "      <td>421</td>\n",
              "      <td>2017-11-07 12:36:15</td>\n",
              "      <td>0</td>\n",
              "      <td>Tuesday</td>\n",
              "    </tr>\n",
              "    <tr>\n",
              "      <th>1613</th>\n",
              "      <td>118383</td>\n",
              "      <td>103</td>\n",
              "      <td>1</td>\n",
              "      <td>13</td>\n",
              "      <td>379</td>\n",
              "      <td>2017-11-09 15:45:17</td>\n",
              "      <td>0</td>\n",
              "      <td>Thursday</td>\n",
              "    </tr>\n",
              "    <tr>\n",
              "      <th>2034</th>\n",
              "      <td>50474</td>\n",
              "      <td>208</td>\n",
              "      <td>1</td>\n",
              "      <td>19</td>\n",
              "      <td>330</td>\n",
              "      <td>2017-11-07 01:33:06</td>\n",
              "      <td>0</td>\n",
              "      <td>Tuesday</td>\n",
              "    </tr>\n",
              "  </tbody>\n",
              "</table>\n",
              "</div>\n",
              "      <button class=\"colab-df-convert\" onclick=\"convertToInteractive('df-7a74cd0d-c14f-4105-a11a-d368737f479a')\"\n",
              "              title=\"Convert this dataframe to an interactive table.\"\n",
              "              style=\"display:none;\">\n",
              "        \n",
              "  <svg xmlns=\"http://www.w3.org/2000/svg\" height=\"24px\"viewBox=\"0 0 24 24\"\n",
              "       width=\"24px\">\n",
              "    <path d=\"M0 0h24v24H0V0z\" fill=\"none\"/>\n",
              "    <path d=\"M18.56 5.44l.94 2.06.94-2.06 2.06-.94-2.06-.94-.94-2.06-.94 2.06-2.06.94zm-11 1L8.5 8.5l.94-2.06 2.06-.94-2.06-.94L8.5 2.5l-.94 2.06-2.06.94zm10 10l.94 2.06.94-2.06 2.06-.94-2.06-.94-.94-2.06-.94 2.06-2.06.94z\"/><path d=\"M17.41 7.96l-1.37-1.37c-.4-.4-.92-.59-1.43-.59-.52 0-1.04.2-1.43.59L10.3 9.45l-7.72 7.72c-.78.78-.78 2.05 0 2.83L4 21.41c.39.39.9.59 1.41.59.51 0 1.02-.2 1.41-.59l7.78-7.78 2.81-2.81c.8-.78.8-2.07 0-2.86zM5.41 20L4 18.59l7.72-7.72 1.47 1.35L5.41 20z\"/>\n",
              "  </svg>\n",
              "      </button>\n",
              "      \n",
              "  <style>\n",
              "    .colab-df-container {\n",
              "      display:flex;\n",
              "      flex-wrap:wrap;\n",
              "      gap: 12px;\n",
              "    }\n",
              "\n",
              "    .colab-df-convert {\n",
              "      background-color: #E8F0FE;\n",
              "      border: none;\n",
              "      border-radius: 50%;\n",
              "      cursor: pointer;\n",
              "      display: none;\n",
              "      fill: #1967D2;\n",
              "      height: 32px;\n",
              "      padding: 0 0 0 0;\n",
              "      width: 32px;\n",
              "    }\n",
              "\n",
              "    .colab-df-convert:hover {\n",
              "      background-color: #E2EBFA;\n",
              "      box-shadow: 0px 1px 2px rgba(60, 64, 67, 0.3), 0px 1px 3px 1px rgba(60, 64, 67, 0.15);\n",
              "      fill: #174EA6;\n",
              "    }\n",
              "\n",
              "    [theme=dark] .colab-df-convert {\n",
              "      background-color: #3B4455;\n",
              "      fill: #D2E3FC;\n",
              "    }\n",
              "\n",
              "    [theme=dark] .colab-df-convert:hover {\n",
              "      background-color: #434B5C;\n",
              "      box-shadow: 0px 1px 3px 1px rgba(0, 0, 0, 0.15);\n",
              "      filter: drop-shadow(0px 1px 2px rgba(0, 0, 0, 0.3));\n",
              "      fill: #FFFFFF;\n",
              "    }\n",
              "  </style>\n",
              "\n",
              "      <script>\n",
              "        const buttonEl =\n",
              "          document.querySelector('#df-7a74cd0d-c14f-4105-a11a-d368737f479a button.colab-df-convert');\n",
              "        buttonEl.style.display =\n",
              "          google.colab.kernel.accessAllowed ? 'block' : 'none';\n",
              "\n",
              "        async function convertToInteractive(key) {\n",
              "          const element = document.querySelector('#df-7a74cd0d-c14f-4105-a11a-d368737f479a');\n",
              "          const dataTable =\n",
              "            await google.colab.kernel.invokeFunction('convertToInteractive',\n",
              "                                                     [key], {});\n",
              "          if (!dataTable) return;\n",
              "\n",
              "          const docLinkHtml = 'Like what you see? Visit the ' +\n",
              "            '<a target=\"_blank\" href=https://colab.research.google.com/notebooks/data_table.ipynb>data table notebook</a>'\n",
              "            + ' to learn more about interactive tables.';\n",
              "          element.innerHTML = '';\n",
              "          dataTable['output_type'] = 'display_data';\n",
              "          await google.colab.output.renderOutput(dataTable, element);\n",
              "          const docLink = document.createElement('div');\n",
              "          docLink.innerHTML = docLinkHtml;\n",
              "          element.appendChild(docLink);\n",
              "        }\n",
              "      </script>\n",
              "    </div>\n",
              "  </div>\n",
              "  "
            ]
          },
          "metadata": {},
          "execution_count": 36
        }
      ]
    },
    {
      "cell_type": "code",
      "metadata": {
        "colab": {
          "base_uri": "https://localhost:8080/",
          "height": 206
        },
        "id": "yloV-MrcCV4s",
        "outputId": "6143b0d6-b2cb-4be3-b281-2842f44c3855"
      },
      "source": [
        "df['month'] = df.click_time.dt.month\n",
        "df.head()"
      ],
      "execution_count": null,
      "outputs": [
        {
          "output_type": "execute_result",
          "data": {
            "text/plain": [
              "          ip  app  device   os  channel          click_time  is_attributed  \\\n",
              "497     7435  125       0    0      110 2017-11-08 11:24:09              0   \n",
              "516    73516  204    3543  748      347 2017-11-08 14:12:37              0   \n",
              "700    93620  202       1   22      421 2017-11-07 12:36:15              0   \n",
              "1613  118383  103       1   13      379 2017-11-09 15:45:17              0   \n",
              "2034   50474  208       1   19      330 2017-11-07 01:33:06              0   \n",
              "\n",
              "     day_of_week  month  \n",
              "497    Wednesday     11  \n",
              "516    Wednesday     11  \n",
              "700      Tuesday     11  \n",
              "1613    Thursday     11  \n",
              "2034     Tuesday     11  "
            ],
            "text/html": [
              "\n",
              "  <div id=\"df-cdcccdae-f003-49cd-a5bf-77ffe4048a0e\">\n",
              "    <div class=\"colab-df-container\">\n",
              "      <div>\n",
              "<style scoped>\n",
              "    .dataframe tbody tr th:only-of-type {\n",
              "        vertical-align: middle;\n",
              "    }\n",
              "\n",
              "    .dataframe tbody tr th {\n",
              "        vertical-align: top;\n",
              "    }\n",
              "\n",
              "    .dataframe thead th {\n",
              "        text-align: right;\n",
              "    }\n",
              "</style>\n",
              "<table border=\"1\" class=\"dataframe\">\n",
              "  <thead>\n",
              "    <tr style=\"text-align: right;\">\n",
              "      <th></th>\n",
              "      <th>ip</th>\n",
              "      <th>app</th>\n",
              "      <th>device</th>\n",
              "      <th>os</th>\n",
              "      <th>channel</th>\n",
              "      <th>click_time</th>\n",
              "      <th>is_attributed</th>\n",
              "      <th>day_of_week</th>\n",
              "      <th>month</th>\n",
              "    </tr>\n",
              "  </thead>\n",
              "  <tbody>\n",
              "    <tr>\n",
              "      <th>497</th>\n",
              "      <td>7435</td>\n",
              "      <td>125</td>\n",
              "      <td>0</td>\n",
              "      <td>0</td>\n",
              "      <td>110</td>\n",
              "      <td>2017-11-08 11:24:09</td>\n",
              "      <td>0</td>\n",
              "      <td>Wednesday</td>\n",
              "      <td>11</td>\n",
              "    </tr>\n",
              "    <tr>\n",
              "      <th>516</th>\n",
              "      <td>73516</td>\n",
              "      <td>204</td>\n",
              "      <td>3543</td>\n",
              "      <td>748</td>\n",
              "      <td>347</td>\n",
              "      <td>2017-11-08 14:12:37</td>\n",
              "      <td>0</td>\n",
              "      <td>Wednesday</td>\n",
              "      <td>11</td>\n",
              "    </tr>\n",
              "    <tr>\n",
              "      <th>700</th>\n",
              "      <td>93620</td>\n",
              "      <td>202</td>\n",
              "      <td>1</td>\n",
              "      <td>22</td>\n",
              "      <td>421</td>\n",
              "      <td>2017-11-07 12:36:15</td>\n",
              "      <td>0</td>\n",
              "      <td>Tuesday</td>\n",
              "      <td>11</td>\n",
              "    </tr>\n",
              "    <tr>\n",
              "      <th>1613</th>\n",
              "      <td>118383</td>\n",
              "      <td>103</td>\n",
              "      <td>1</td>\n",
              "      <td>13</td>\n",
              "      <td>379</td>\n",
              "      <td>2017-11-09 15:45:17</td>\n",
              "      <td>0</td>\n",
              "      <td>Thursday</td>\n",
              "      <td>11</td>\n",
              "    </tr>\n",
              "    <tr>\n",
              "      <th>2034</th>\n",
              "      <td>50474</td>\n",
              "      <td>208</td>\n",
              "      <td>1</td>\n",
              "      <td>19</td>\n",
              "      <td>330</td>\n",
              "      <td>2017-11-07 01:33:06</td>\n",
              "      <td>0</td>\n",
              "      <td>Tuesday</td>\n",
              "      <td>11</td>\n",
              "    </tr>\n",
              "  </tbody>\n",
              "</table>\n",
              "</div>\n",
              "      <button class=\"colab-df-convert\" onclick=\"convertToInteractive('df-cdcccdae-f003-49cd-a5bf-77ffe4048a0e')\"\n",
              "              title=\"Convert this dataframe to an interactive table.\"\n",
              "              style=\"display:none;\">\n",
              "        \n",
              "  <svg xmlns=\"http://www.w3.org/2000/svg\" height=\"24px\"viewBox=\"0 0 24 24\"\n",
              "       width=\"24px\">\n",
              "    <path d=\"M0 0h24v24H0V0z\" fill=\"none\"/>\n",
              "    <path d=\"M18.56 5.44l.94 2.06.94-2.06 2.06-.94-2.06-.94-.94-2.06-.94 2.06-2.06.94zm-11 1L8.5 8.5l.94-2.06 2.06-.94-2.06-.94L8.5 2.5l-.94 2.06-2.06.94zm10 10l.94 2.06.94-2.06 2.06-.94-2.06-.94-.94-2.06-.94 2.06-2.06.94z\"/><path d=\"M17.41 7.96l-1.37-1.37c-.4-.4-.92-.59-1.43-.59-.52 0-1.04.2-1.43.59L10.3 9.45l-7.72 7.72c-.78.78-.78 2.05 0 2.83L4 21.41c.39.39.9.59 1.41.59.51 0 1.02-.2 1.41-.59l7.78-7.78 2.81-2.81c.8-.78.8-2.07 0-2.86zM5.41 20L4 18.59l7.72-7.72 1.47 1.35L5.41 20z\"/>\n",
              "  </svg>\n",
              "      </button>\n",
              "      \n",
              "  <style>\n",
              "    .colab-df-container {\n",
              "      display:flex;\n",
              "      flex-wrap:wrap;\n",
              "      gap: 12px;\n",
              "    }\n",
              "\n",
              "    .colab-df-convert {\n",
              "      background-color: #E8F0FE;\n",
              "      border: none;\n",
              "      border-radius: 50%;\n",
              "      cursor: pointer;\n",
              "      display: none;\n",
              "      fill: #1967D2;\n",
              "      height: 32px;\n",
              "      padding: 0 0 0 0;\n",
              "      width: 32px;\n",
              "    }\n",
              "\n",
              "    .colab-df-convert:hover {\n",
              "      background-color: #E2EBFA;\n",
              "      box-shadow: 0px 1px 2px rgba(60, 64, 67, 0.3), 0px 1px 3px 1px rgba(60, 64, 67, 0.15);\n",
              "      fill: #174EA6;\n",
              "    }\n",
              "\n",
              "    [theme=dark] .colab-df-convert {\n",
              "      background-color: #3B4455;\n",
              "      fill: #D2E3FC;\n",
              "    }\n",
              "\n",
              "    [theme=dark] .colab-df-convert:hover {\n",
              "      background-color: #434B5C;\n",
              "      box-shadow: 0px 1px 3px 1px rgba(0, 0, 0, 0.15);\n",
              "      filter: drop-shadow(0px 1px 2px rgba(0, 0, 0, 0.3));\n",
              "      fill: #FFFFFF;\n",
              "    }\n",
              "  </style>\n",
              "\n",
              "      <script>\n",
              "        const buttonEl =\n",
              "          document.querySelector('#df-cdcccdae-f003-49cd-a5bf-77ffe4048a0e button.colab-df-convert');\n",
              "        buttonEl.style.display =\n",
              "          google.colab.kernel.accessAllowed ? 'block' : 'none';\n",
              "\n",
              "        async function convertToInteractive(key) {\n",
              "          const element = document.querySelector('#df-cdcccdae-f003-49cd-a5bf-77ffe4048a0e');\n",
              "          const dataTable =\n",
              "            await google.colab.kernel.invokeFunction('convertToInteractive',\n",
              "                                                     [key], {});\n",
              "          if (!dataTable) return;\n",
              "\n",
              "          const docLinkHtml = 'Like what you see? Visit the ' +\n",
              "            '<a target=\"_blank\" href=https://colab.research.google.com/notebooks/data_table.ipynb>data table notebook</a>'\n",
              "            + ' to learn more about interactive tables.';\n",
              "          element.innerHTML = '';\n",
              "          dataTable['output_type'] = 'display_data';\n",
              "          await google.colab.output.renderOutput(dataTable, element);\n",
              "          const docLink = document.createElement('div');\n",
              "          docLink.innerHTML = docLinkHtml;\n",
              "          element.appendChild(docLink);\n",
              "        }\n",
              "      </script>\n",
              "    </div>\n",
              "  </div>\n",
              "  "
            ]
          },
          "metadata": {},
          "execution_count": 37
        }
      ]
    },
    {
      "cell_type": "code",
      "metadata": {
        "colab": {
          "base_uri": "https://localhost:8080/",
          "height": 206
        },
        "id": "UX6M_8zFCY67",
        "outputId": "345d0c55-c55d-4021-c7b6-77048eb91016"
      },
      "source": [
        "df['day_of_year'] = df.click_time.dt.day\n",
        "df.head()"
      ],
      "execution_count": null,
      "outputs": [
        {
          "output_type": "execute_result",
          "data": {
            "text/plain": [
              "          ip  app  device   os  channel          click_time  is_attributed  \\\n",
              "497     7435  125       0    0      110 2017-11-08 11:24:09              0   \n",
              "516    73516  204    3543  748      347 2017-11-08 14:12:37              0   \n",
              "700    93620  202       1   22      421 2017-11-07 12:36:15              0   \n",
              "1613  118383  103       1   13      379 2017-11-09 15:45:17              0   \n",
              "2034   50474  208       1   19      330 2017-11-07 01:33:06              0   \n",
              "\n",
              "     day_of_week  month  day_of_year  \n",
              "497    Wednesday     11            8  \n",
              "516    Wednesday     11            8  \n",
              "700      Tuesday     11            7  \n",
              "1613    Thursday     11            9  \n",
              "2034     Tuesday     11            7  "
            ],
            "text/html": [
              "\n",
              "  <div id=\"df-f7353e7f-5403-4046-ac24-baed1da7ee62\">\n",
              "    <div class=\"colab-df-container\">\n",
              "      <div>\n",
              "<style scoped>\n",
              "    .dataframe tbody tr th:only-of-type {\n",
              "        vertical-align: middle;\n",
              "    }\n",
              "\n",
              "    .dataframe tbody tr th {\n",
              "        vertical-align: top;\n",
              "    }\n",
              "\n",
              "    .dataframe thead th {\n",
              "        text-align: right;\n",
              "    }\n",
              "</style>\n",
              "<table border=\"1\" class=\"dataframe\">\n",
              "  <thead>\n",
              "    <tr style=\"text-align: right;\">\n",
              "      <th></th>\n",
              "      <th>ip</th>\n",
              "      <th>app</th>\n",
              "      <th>device</th>\n",
              "      <th>os</th>\n",
              "      <th>channel</th>\n",
              "      <th>click_time</th>\n",
              "      <th>is_attributed</th>\n",
              "      <th>day_of_week</th>\n",
              "      <th>month</th>\n",
              "      <th>day_of_year</th>\n",
              "    </tr>\n",
              "  </thead>\n",
              "  <tbody>\n",
              "    <tr>\n",
              "      <th>497</th>\n",
              "      <td>7435</td>\n",
              "      <td>125</td>\n",
              "      <td>0</td>\n",
              "      <td>0</td>\n",
              "      <td>110</td>\n",
              "      <td>2017-11-08 11:24:09</td>\n",
              "      <td>0</td>\n",
              "      <td>Wednesday</td>\n",
              "      <td>11</td>\n",
              "      <td>8</td>\n",
              "    </tr>\n",
              "    <tr>\n",
              "      <th>516</th>\n",
              "      <td>73516</td>\n",
              "      <td>204</td>\n",
              "      <td>3543</td>\n",
              "      <td>748</td>\n",
              "      <td>347</td>\n",
              "      <td>2017-11-08 14:12:37</td>\n",
              "      <td>0</td>\n",
              "      <td>Wednesday</td>\n",
              "      <td>11</td>\n",
              "      <td>8</td>\n",
              "    </tr>\n",
              "    <tr>\n",
              "      <th>700</th>\n",
              "      <td>93620</td>\n",
              "      <td>202</td>\n",
              "      <td>1</td>\n",
              "      <td>22</td>\n",
              "      <td>421</td>\n",
              "      <td>2017-11-07 12:36:15</td>\n",
              "      <td>0</td>\n",
              "      <td>Tuesday</td>\n",
              "      <td>11</td>\n",
              "      <td>7</td>\n",
              "    </tr>\n",
              "    <tr>\n",
              "      <th>1613</th>\n",
              "      <td>118383</td>\n",
              "      <td>103</td>\n",
              "      <td>1</td>\n",
              "      <td>13</td>\n",
              "      <td>379</td>\n",
              "      <td>2017-11-09 15:45:17</td>\n",
              "      <td>0</td>\n",
              "      <td>Thursday</td>\n",
              "      <td>11</td>\n",
              "      <td>9</td>\n",
              "    </tr>\n",
              "    <tr>\n",
              "      <th>2034</th>\n",
              "      <td>50474</td>\n",
              "      <td>208</td>\n",
              "      <td>1</td>\n",
              "      <td>19</td>\n",
              "      <td>330</td>\n",
              "      <td>2017-11-07 01:33:06</td>\n",
              "      <td>0</td>\n",
              "      <td>Tuesday</td>\n",
              "      <td>11</td>\n",
              "      <td>7</td>\n",
              "    </tr>\n",
              "  </tbody>\n",
              "</table>\n",
              "</div>\n",
              "      <button class=\"colab-df-convert\" onclick=\"convertToInteractive('df-f7353e7f-5403-4046-ac24-baed1da7ee62')\"\n",
              "              title=\"Convert this dataframe to an interactive table.\"\n",
              "              style=\"display:none;\">\n",
              "        \n",
              "  <svg xmlns=\"http://www.w3.org/2000/svg\" height=\"24px\"viewBox=\"0 0 24 24\"\n",
              "       width=\"24px\">\n",
              "    <path d=\"M0 0h24v24H0V0z\" fill=\"none\"/>\n",
              "    <path d=\"M18.56 5.44l.94 2.06.94-2.06 2.06-.94-2.06-.94-.94-2.06-.94 2.06-2.06.94zm-11 1L8.5 8.5l.94-2.06 2.06-.94-2.06-.94L8.5 2.5l-.94 2.06-2.06.94zm10 10l.94 2.06.94-2.06 2.06-.94-2.06-.94-.94-2.06-.94 2.06-2.06.94z\"/><path d=\"M17.41 7.96l-1.37-1.37c-.4-.4-.92-.59-1.43-.59-.52 0-1.04.2-1.43.59L10.3 9.45l-7.72 7.72c-.78.78-.78 2.05 0 2.83L4 21.41c.39.39.9.59 1.41.59.51 0 1.02-.2 1.41-.59l7.78-7.78 2.81-2.81c.8-.78.8-2.07 0-2.86zM5.41 20L4 18.59l7.72-7.72 1.47 1.35L5.41 20z\"/>\n",
              "  </svg>\n",
              "      </button>\n",
              "      \n",
              "  <style>\n",
              "    .colab-df-container {\n",
              "      display:flex;\n",
              "      flex-wrap:wrap;\n",
              "      gap: 12px;\n",
              "    }\n",
              "\n",
              "    .colab-df-convert {\n",
              "      background-color: #E8F0FE;\n",
              "      border: none;\n",
              "      border-radius: 50%;\n",
              "      cursor: pointer;\n",
              "      display: none;\n",
              "      fill: #1967D2;\n",
              "      height: 32px;\n",
              "      padding: 0 0 0 0;\n",
              "      width: 32px;\n",
              "    }\n",
              "\n",
              "    .colab-df-convert:hover {\n",
              "      background-color: #E2EBFA;\n",
              "      box-shadow: 0px 1px 2px rgba(60, 64, 67, 0.3), 0px 1px 3px 1px rgba(60, 64, 67, 0.15);\n",
              "      fill: #174EA6;\n",
              "    }\n",
              "\n",
              "    [theme=dark] .colab-df-convert {\n",
              "      background-color: #3B4455;\n",
              "      fill: #D2E3FC;\n",
              "    }\n",
              "\n",
              "    [theme=dark] .colab-df-convert:hover {\n",
              "      background-color: #434B5C;\n",
              "      box-shadow: 0px 1px 3px 1px rgba(0, 0, 0, 0.15);\n",
              "      filter: drop-shadow(0px 1px 2px rgba(0, 0, 0, 0.3));\n",
              "      fill: #FFFFFF;\n",
              "    }\n",
              "  </style>\n",
              "\n",
              "      <script>\n",
              "        const buttonEl =\n",
              "          document.querySelector('#df-f7353e7f-5403-4046-ac24-baed1da7ee62 button.colab-df-convert');\n",
              "        buttonEl.style.display =\n",
              "          google.colab.kernel.accessAllowed ? 'block' : 'none';\n",
              "\n",
              "        async function convertToInteractive(key) {\n",
              "          const element = document.querySelector('#df-f7353e7f-5403-4046-ac24-baed1da7ee62');\n",
              "          const dataTable =\n",
              "            await google.colab.kernel.invokeFunction('convertToInteractive',\n",
              "                                                     [key], {});\n",
              "          if (!dataTable) return;\n",
              "\n",
              "          const docLinkHtml = 'Like what you see? Visit the ' +\n",
              "            '<a target=\"_blank\" href=https://colab.research.google.com/notebooks/data_table.ipynb>data table notebook</a>'\n",
              "            + ' to learn more about interactive tables.';\n",
              "          element.innerHTML = '';\n",
              "          dataTable['output_type'] = 'display_data';\n",
              "          await google.colab.output.renderOutput(dataTable, element);\n",
              "          const docLink = document.createElement('div');\n",
              "          docLink.innerHTML = docLinkHtml;\n",
              "          element.appendChild(docLink);\n",
              "        }\n",
              "      </script>\n",
              "    </div>\n",
              "  </div>\n",
              "  "
            ]
          },
          "metadata": {},
          "execution_count": 38
        }
      ]
    },
    {
      "cell_type": "code",
      "metadata": {
        "colab": {
          "base_uri": "https://localhost:8080/",
          "height": 206
        },
        "id": "wkEtrBQyCbB3",
        "outputId": "140774bf-d454-403b-c857-7412047cef00"
      },
      "source": [
        "df['hour'] = df.click_time.dt.hour\n",
        "df.head()"
      ],
      "execution_count": null,
      "outputs": [
        {
          "output_type": "execute_result",
          "data": {
            "text/plain": [
              "          ip  app  device   os  channel          click_time  is_attributed  \\\n",
              "497     7435  125       0    0      110 2017-11-08 11:24:09              0   \n",
              "516    73516  204    3543  748      347 2017-11-08 14:12:37              0   \n",
              "700    93620  202       1   22      421 2017-11-07 12:36:15              0   \n",
              "1613  118383  103       1   13      379 2017-11-09 15:45:17              0   \n",
              "2034   50474  208       1   19      330 2017-11-07 01:33:06              0   \n",
              "\n",
              "     day_of_week  month  day_of_year  hour  \n",
              "497    Wednesday     11            8    11  \n",
              "516    Wednesday     11            8    14  \n",
              "700      Tuesday     11            7    12  \n",
              "1613    Thursday     11            9    15  \n",
              "2034     Tuesday     11            7     1  "
            ],
            "text/html": [
              "\n",
              "  <div id=\"df-19afaa3c-5ec8-4bfa-a3c3-2fbfcd16f795\">\n",
              "    <div class=\"colab-df-container\">\n",
              "      <div>\n",
              "<style scoped>\n",
              "    .dataframe tbody tr th:only-of-type {\n",
              "        vertical-align: middle;\n",
              "    }\n",
              "\n",
              "    .dataframe tbody tr th {\n",
              "        vertical-align: top;\n",
              "    }\n",
              "\n",
              "    .dataframe thead th {\n",
              "        text-align: right;\n",
              "    }\n",
              "</style>\n",
              "<table border=\"1\" class=\"dataframe\">\n",
              "  <thead>\n",
              "    <tr style=\"text-align: right;\">\n",
              "      <th></th>\n",
              "      <th>ip</th>\n",
              "      <th>app</th>\n",
              "      <th>device</th>\n",
              "      <th>os</th>\n",
              "      <th>channel</th>\n",
              "      <th>click_time</th>\n",
              "      <th>is_attributed</th>\n",
              "      <th>day_of_week</th>\n",
              "      <th>month</th>\n",
              "      <th>day_of_year</th>\n",
              "      <th>hour</th>\n",
              "    </tr>\n",
              "  </thead>\n",
              "  <tbody>\n",
              "    <tr>\n",
              "      <th>497</th>\n",
              "      <td>7435</td>\n",
              "      <td>125</td>\n",
              "      <td>0</td>\n",
              "      <td>0</td>\n",
              "      <td>110</td>\n",
              "      <td>2017-11-08 11:24:09</td>\n",
              "      <td>0</td>\n",
              "      <td>Wednesday</td>\n",
              "      <td>11</td>\n",
              "      <td>8</td>\n",
              "      <td>11</td>\n",
              "    </tr>\n",
              "    <tr>\n",
              "      <th>516</th>\n",
              "      <td>73516</td>\n",
              "      <td>204</td>\n",
              "      <td>3543</td>\n",
              "      <td>748</td>\n",
              "      <td>347</td>\n",
              "      <td>2017-11-08 14:12:37</td>\n",
              "      <td>0</td>\n",
              "      <td>Wednesday</td>\n",
              "      <td>11</td>\n",
              "      <td>8</td>\n",
              "      <td>14</td>\n",
              "    </tr>\n",
              "    <tr>\n",
              "      <th>700</th>\n",
              "      <td>93620</td>\n",
              "      <td>202</td>\n",
              "      <td>1</td>\n",
              "      <td>22</td>\n",
              "      <td>421</td>\n",
              "      <td>2017-11-07 12:36:15</td>\n",
              "      <td>0</td>\n",
              "      <td>Tuesday</td>\n",
              "      <td>11</td>\n",
              "      <td>7</td>\n",
              "      <td>12</td>\n",
              "    </tr>\n",
              "    <tr>\n",
              "      <th>1613</th>\n",
              "      <td>118383</td>\n",
              "      <td>103</td>\n",
              "      <td>1</td>\n",
              "      <td>13</td>\n",
              "      <td>379</td>\n",
              "      <td>2017-11-09 15:45:17</td>\n",
              "      <td>0</td>\n",
              "      <td>Thursday</td>\n",
              "      <td>11</td>\n",
              "      <td>9</td>\n",
              "      <td>15</td>\n",
              "    </tr>\n",
              "    <tr>\n",
              "      <th>2034</th>\n",
              "      <td>50474</td>\n",
              "      <td>208</td>\n",
              "      <td>1</td>\n",
              "      <td>19</td>\n",
              "      <td>330</td>\n",
              "      <td>2017-11-07 01:33:06</td>\n",
              "      <td>0</td>\n",
              "      <td>Tuesday</td>\n",
              "      <td>11</td>\n",
              "      <td>7</td>\n",
              "      <td>1</td>\n",
              "    </tr>\n",
              "  </tbody>\n",
              "</table>\n",
              "</div>\n",
              "      <button class=\"colab-df-convert\" onclick=\"convertToInteractive('df-19afaa3c-5ec8-4bfa-a3c3-2fbfcd16f795')\"\n",
              "              title=\"Convert this dataframe to an interactive table.\"\n",
              "              style=\"display:none;\">\n",
              "        \n",
              "  <svg xmlns=\"http://www.w3.org/2000/svg\" height=\"24px\"viewBox=\"0 0 24 24\"\n",
              "       width=\"24px\">\n",
              "    <path d=\"M0 0h24v24H0V0z\" fill=\"none\"/>\n",
              "    <path d=\"M18.56 5.44l.94 2.06.94-2.06 2.06-.94-2.06-.94-.94-2.06-.94 2.06-2.06.94zm-11 1L8.5 8.5l.94-2.06 2.06-.94-2.06-.94L8.5 2.5l-.94 2.06-2.06.94zm10 10l.94 2.06.94-2.06 2.06-.94-2.06-.94-.94-2.06-.94 2.06-2.06.94z\"/><path d=\"M17.41 7.96l-1.37-1.37c-.4-.4-.92-.59-1.43-.59-.52 0-1.04.2-1.43.59L10.3 9.45l-7.72 7.72c-.78.78-.78 2.05 0 2.83L4 21.41c.39.39.9.59 1.41.59.51 0 1.02-.2 1.41-.59l7.78-7.78 2.81-2.81c.8-.78.8-2.07 0-2.86zM5.41 20L4 18.59l7.72-7.72 1.47 1.35L5.41 20z\"/>\n",
              "  </svg>\n",
              "      </button>\n",
              "      \n",
              "  <style>\n",
              "    .colab-df-container {\n",
              "      display:flex;\n",
              "      flex-wrap:wrap;\n",
              "      gap: 12px;\n",
              "    }\n",
              "\n",
              "    .colab-df-convert {\n",
              "      background-color: #E8F0FE;\n",
              "      border: none;\n",
              "      border-radius: 50%;\n",
              "      cursor: pointer;\n",
              "      display: none;\n",
              "      fill: #1967D2;\n",
              "      height: 32px;\n",
              "      padding: 0 0 0 0;\n",
              "      width: 32px;\n",
              "    }\n",
              "\n",
              "    .colab-df-convert:hover {\n",
              "      background-color: #E2EBFA;\n",
              "      box-shadow: 0px 1px 2px rgba(60, 64, 67, 0.3), 0px 1px 3px 1px rgba(60, 64, 67, 0.15);\n",
              "      fill: #174EA6;\n",
              "    }\n",
              "\n",
              "    [theme=dark] .colab-df-convert {\n",
              "      background-color: #3B4455;\n",
              "      fill: #D2E3FC;\n",
              "    }\n",
              "\n",
              "    [theme=dark] .colab-df-convert:hover {\n",
              "      background-color: #434B5C;\n",
              "      box-shadow: 0px 1px 3px 1px rgba(0, 0, 0, 0.15);\n",
              "      filter: drop-shadow(0px 1px 2px rgba(0, 0, 0, 0.3));\n",
              "      fill: #FFFFFF;\n",
              "    }\n",
              "  </style>\n",
              "\n",
              "      <script>\n",
              "        const buttonEl =\n",
              "          document.querySelector('#df-19afaa3c-5ec8-4bfa-a3c3-2fbfcd16f795 button.colab-df-convert');\n",
              "        buttonEl.style.display =\n",
              "          google.colab.kernel.accessAllowed ? 'block' : 'none';\n",
              "\n",
              "        async function convertToInteractive(key) {\n",
              "          const element = document.querySelector('#df-19afaa3c-5ec8-4bfa-a3c3-2fbfcd16f795');\n",
              "          const dataTable =\n",
              "            await google.colab.kernel.invokeFunction('convertToInteractive',\n",
              "                                                     [key], {});\n",
              "          if (!dataTable) return;\n",
              "\n",
              "          const docLinkHtml = 'Like what you see? Visit the ' +\n",
              "            '<a target=\"_blank\" href=https://colab.research.google.com/notebooks/data_table.ipynb>data table notebook</a>'\n",
              "            + ' to learn more about interactive tables.';\n",
              "          element.innerHTML = '';\n",
              "          dataTable['output_type'] = 'display_data';\n",
              "          await google.colab.output.renderOutput(dataTable, element);\n",
              "          const docLink = document.createElement('div');\n",
              "          docLink.innerHTML = docLinkHtml;\n",
              "          element.appendChild(docLink);\n",
              "        }\n",
              "      </script>\n",
              "    </div>\n",
              "  </div>\n",
              "  "
            ]
          },
          "metadata": {},
          "execution_count": 39
        }
      ]
    },
    {
      "cell_type": "code",
      "metadata": {
        "colab": {
          "base_uri": "https://localhost:8080/",
          "height": 206
        },
        "id": "uT7WHes8Lhs5",
        "outputId": "f092270d-5c59-4584-cf3b-daccccfbcb61"
      },
      "source": [
        "df.head()"
      ],
      "execution_count": null,
      "outputs": [
        {
          "output_type": "execute_result",
          "data": {
            "text/plain": [
              "          ip  app  device   os  channel          click_time  is_attributed  \\\n",
              "497     7435  125       0    0      110 2017-11-08 11:24:09              0   \n",
              "516    73516  204    3543  748      347 2017-11-08 14:12:37              0   \n",
              "700    93620  202       1   22      421 2017-11-07 12:36:15              0   \n",
              "1613  118383  103       1   13      379 2017-11-09 15:45:17              0   \n",
              "2034   50474  208       1   19      330 2017-11-07 01:33:06              0   \n",
              "\n",
              "     day_of_week  month  day_of_year  hour  \n",
              "497    Wednesday     11            8    11  \n",
              "516    Wednesday     11            8    14  \n",
              "700      Tuesday     11            7    12  \n",
              "1613    Thursday     11            9    15  \n",
              "2034     Tuesday     11            7     1  "
            ],
            "text/html": [
              "\n",
              "  <div id=\"df-a492559d-935a-4bb0-a0a0-23cc98023077\">\n",
              "    <div class=\"colab-df-container\">\n",
              "      <div>\n",
              "<style scoped>\n",
              "    .dataframe tbody tr th:only-of-type {\n",
              "        vertical-align: middle;\n",
              "    }\n",
              "\n",
              "    .dataframe tbody tr th {\n",
              "        vertical-align: top;\n",
              "    }\n",
              "\n",
              "    .dataframe thead th {\n",
              "        text-align: right;\n",
              "    }\n",
              "</style>\n",
              "<table border=\"1\" class=\"dataframe\">\n",
              "  <thead>\n",
              "    <tr style=\"text-align: right;\">\n",
              "      <th></th>\n",
              "      <th>ip</th>\n",
              "      <th>app</th>\n",
              "      <th>device</th>\n",
              "      <th>os</th>\n",
              "      <th>channel</th>\n",
              "      <th>click_time</th>\n",
              "      <th>is_attributed</th>\n",
              "      <th>day_of_week</th>\n",
              "      <th>month</th>\n",
              "      <th>day_of_year</th>\n",
              "      <th>hour</th>\n",
              "    </tr>\n",
              "  </thead>\n",
              "  <tbody>\n",
              "    <tr>\n",
              "      <th>497</th>\n",
              "      <td>7435</td>\n",
              "      <td>125</td>\n",
              "      <td>0</td>\n",
              "      <td>0</td>\n",
              "      <td>110</td>\n",
              "      <td>2017-11-08 11:24:09</td>\n",
              "      <td>0</td>\n",
              "      <td>Wednesday</td>\n",
              "      <td>11</td>\n",
              "      <td>8</td>\n",
              "      <td>11</td>\n",
              "    </tr>\n",
              "    <tr>\n",
              "      <th>516</th>\n",
              "      <td>73516</td>\n",
              "      <td>204</td>\n",
              "      <td>3543</td>\n",
              "      <td>748</td>\n",
              "      <td>347</td>\n",
              "      <td>2017-11-08 14:12:37</td>\n",
              "      <td>0</td>\n",
              "      <td>Wednesday</td>\n",
              "      <td>11</td>\n",
              "      <td>8</td>\n",
              "      <td>14</td>\n",
              "    </tr>\n",
              "    <tr>\n",
              "      <th>700</th>\n",
              "      <td>93620</td>\n",
              "      <td>202</td>\n",
              "      <td>1</td>\n",
              "      <td>22</td>\n",
              "      <td>421</td>\n",
              "      <td>2017-11-07 12:36:15</td>\n",
              "      <td>0</td>\n",
              "      <td>Tuesday</td>\n",
              "      <td>11</td>\n",
              "      <td>7</td>\n",
              "      <td>12</td>\n",
              "    </tr>\n",
              "    <tr>\n",
              "      <th>1613</th>\n",
              "      <td>118383</td>\n",
              "      <td>103</td>\n",
              "      <td>1</td>\n",
              "      <td>13</td>\n",
              "      <td>379</td>\n",
              "      <td>2017-11-09 15:45:17</td>\n",
              "      <td>0</td>\n",
              "      <td>Thursday</td>\n",
              "      <td>11</td>\n",
              "      <td>9</td>\n",
              "      <td>15</td>\n",
              "    </tr>\n",
              "    <tr>\n",
              "      <th>2034</th>\n",
              "      <td>50474</td>\n",
              "      <td>208</td>\n",
              "      <td>1</td>\n",
              "      <td>19</td>\n",
              "      <td>330</td>\n",
              "      <td>2017-11-07 01:33:06</td>\n",
              "      <td>0</td>\n",
              "      <td>Tuesday</td>\n",
              "      <td>11</td>\n",
              "      <td>7</td>\n",
              "      <td>1</td>\n",
              "    </tr>\n",
              "  </tbody>\n",
              "</table>\n",
              "</div>\n",
              "      <button class=\"colab-df-convert\" onclick=\"convertToInteractive('df-a492559d-935a-4bb0-a0a0-23cc98023077')\"\n",
              "              title=\"Convert this dataframe to an interactive table.\"\n",
              "              style=\"display:none;\">\n",
              "        \n",
              "  <svg xmlns=\"http://www.w3.org/2000/svg\" height=\"24px\"viewBox=\"0 0 24 24\"\n",
              "       width=\"24px\">\n",
              "    <path d=\"M0 0h24v24H0V0z\" fill=\"none\"/>\n",
              "    <path d=\"M18.56 5.44l.94 2.06.94-2.06 2.06-.94-2.06-.94-.94-2.06-.94 2.06-2.06.94zm-11 1L8.5 8.5l.94-2.06 2.06-.94-2.06-.94L8.5 2.5l-.94 2.06-2.06.94zm10 10l.94 2.06.94-2.06 2.06-.94-2.06-.94-.94-2.06-.94 2.06-2.06.94z\"/><path d=\"M17.41 7.96l-1.37-1.37c-.4-.4-.92-.59-1.43-.59-.52 0-1.04.2-1.43.59L10.3 9.45l-7.72 7.72c-.78.78-.78 2.05 0 2.83L4 21.41c.39.39.9.59 1.41.59.51 0 1.02-.2 1.41-.59l7.78-7.78 2.81-2.81c.8-.78.8-2.07 0-2.86zM5.41 20L4 18.59l7.72-7.72 1.47 1.35L5.41 20z\"/>\n",
              "  </svg>\n",
              "      </button>\n",
              "      \n",
              "  <style>\n",
              "    .colab-df-container {\n",
              "      display:flex;\n",
              "      flex-wrap:wrap;\n",
              "      gap: 12px;\n",
              "    }\n",
              "\n",
              "    .colab-df-convert {\n",
              "      background-color: #E8F0FE;\n",
              "      border: none;\n",
              "      border-radius: 50%;\n",
              "      cursor: pointer;\n",
              "      display: none;\n",
              "      fill: #1967D2;\n",
              "      height: 32px;\n",
              "      padding: 0 0 0 0;\n",
              "      width: 32px;\n",
              "    }\n",
              "\n",
              "    .colab-df-convert:hover {\n",
              "      background-color: #E2EBFA;\n",
              "      box-shadow: 0px 1px 2px rgba(60, 64, 67, 0.3), 0px 1px 3px 1px rgba(60, 64, 67, 0.15);\n",
              "      fill: #174EA6;\n",
              "    }\n",
              "\n",
              "    [theme=dark] .colab-df-convert {\n",
              "      background-color: #3B4455;\n",
              "      fill: #D2E3FC;\n",
              "    }\n",
              "\n",
              "    [theme=dark] .colab-df-convert:hover {\n",
              "      background-color: #434B5C;\n",
              "      box-shadow: 0px 1px 3px 1px rgba(0, 0, 0, 0.15);\n",
              "      filter: drop-shadow(0px 1px 2px rgba(0, 0, 0, 0.3));\n",
              "      fill: #FFFFFF;\n",
              "    }\n",
              "  </style>\n",
              "\n",
              "      <script>\n",
              "        const buttonEl =\n",
              "          document.querySelector('#df-a492559d-935a-4bb0-a0a0-23cc98023077 button.colab-df-convert');\n",
              "        buttonEl.style.display =\n",
              "          google.colab.kernel.accessAllowed ? 'block' : 'none';\n",
              "\n",
              "        async function convertToInteractive(key) {\n",
              "          const element = document.querySelector('#df-a492559d-935a-4bb0-a0a0-23cc98023077');\n",
              "          const dataTable =\n",
              "            await google.colab.kernel.invokeFunction('convertToInteractive',\n",
              "                                                     [key], {});\n",
              "          if (!dataTable) return;\n",
              "\n",
              "          const docLinkHtml = 'Like what you see? Visit the ' +\n",
              "            '<a target=\"_blank\" href=https://colab.research.google.com/notebooks/data_table.ipynb>data table notebook</a>'\n",
              "            + ' to learn more about interactive tables.';\n",
              "          element.innerHTML = '';\n",
              "          dataTable['output_type'] = 'display_data';\n",
              "          await google.colab.output.renderOutput(dataTable, element);\n",
              "          const docLink = document.createElement('div');\n",
              "          docLink.innerHTML = docLinkHtml;\n",
              "          element.appendChild(docLink);\n",
              "        }\n",
              "      </script>\n",
              "    </div>\n",
              "  </div>\n",
              "  "
            ]
          },
          "metadata": {},
          "execution_count": 40
        }
      ]
    },
    {
      "cell_type": "code",
      "metadata": {
        "colab": {
          "base_uri": "https://localhost:8080/"
        },
        "id": "W-wK1UjELlCT",
        "outputId": "5d2cad01-7eee-47a9-dc83-ad68f8ca1fcb"
      },
      "source": [
        "df.dtypes"
      ],
      "execution_count": null,
      "outputs": [
        {
          "output_type": "execute_result",
          "data": {
            "text/plain": [
              "ip                        int64\n",
              "app                       int64\n",
              "device                    int64\n",
              "os                        int64\n",
              "channel                   int64\n",
              "click_time       datetime64[ns]\n",
              "is_attributed             int64\n",
              "day_of_week              object\n",
              "month                     int64\n",
              "day_of_year               int64\n",
              "hour                      int64\n",
              "dtype: object"
            ]
          },
          "metadata": {},
          "execution_count": 41
        }
      ]
    },
    {
      "cell_type": "code",
      "metadata": {
        "id": "vl6JcIYmL2jJ"
      },
      "source": [
        "from sklearn import preprocessing\n",
        "le = preprocessing.LabelEncoder()\n",
        "df['day_of_week1']=le.fit_transform(df['day_of_week'])"
      ],
      "execution_count": null,
      "outputs": []
    },
    {
      "cell_type": "markdown",
      "metadata": {
        "id": "ZqqJ5yG6s2_l"
      },
      "source": [
        "###### **By using Pandas derive new features such as - 'day_of_week' , 'day_of_year' , 'month' , and 'hour' as float/int datatypes using the 'click_time' column . Add the newly derived columns in original datase**"
      ]
    },
    {
      "cell_type": "code",
      "metadata": {
        "id": "dkoB4L62NpV9"
      },
      "source": [
        "import seaborn as sns"
      ],
      "execution_count": null,
      "outputs": []
    },
    {
      "cell_type": "code",
      "metadata": {
        "colab": {
          "base_uri": "https://localhost:8080/"
        },
        "id": "hE5yQ1OuMhVH",
        "outputId": "07b891e4-ee84-40ff-d21d-7b3cafc405ed"
      },
      "source": [
        "df.is_attributed.value_counts()"
      ],
      "execution_count": null,
      "outputs": [
        {
          "output_type": "execute_result",
          "data": {
            "text/plain": [
              "0    414\n",
              "1     13\n",
              "Name: is_attributed, dtype: int64"
            ]
          },
          "metadata": {},
          "execution_count": 45
        }
      ]
    },
    {
      "cell_type": "code",
      "metadata": {
        "colab": {
          "base_uri": "https://localhost:8080/",
          "height": 318
        },
        "id": "FsTk9X0FMsIj",
        "outputId": "9e067113-7e15-4450-a09a-45c88ad7d4f9"
      },
      "source": [
        "sns.countplot('is_attributed',data = df)\n",
        "plt.title(\"is_attributed\")"
      ],
      "execution_count": null,
      "outputs": [
        {
          "output_type": "execute_result",
          "data": {
            "text/plain": [
              "Text(0.5, 1.0, 'is_attributed')"
            ]
          },
          "metadata": {},
          "execution_count": 46
        },
        {
          "output_type": "display_data",
          "data": {
            "text/plain": [
              "<Figure size 432x288 with 1 Axes>"
            ],
            "image/png": "[encoded data removed]"
          },
          "metadata": {}
        }
      ]
    },
    {
      "cell_type": "code",
      "metadata": {
        "colab": {
          "base_uri": "https://localhost:8080/",
          "height": 363
        },
        "id": "SboScNZoO48y",
        "outputId": "2cd3497b-a814-4e55-96ef-3800595908b1"
      },
      "source": [
        "corr = df.corr()\n",
        "corr"
      ],
      "execution_count": null,
      "outputs": [
        {
          "output_type": "execute_result",
          "data": {
            "text/plain": [
              "                     ip       app    device        os   channel  \\\n",
              "ip             1.000000  0.014183 -0.039953 -0.023048 -0.050300   \n",
              "app            0.014183  1.000000  0.259640  0.226790  0.107046   \n",
              "device        -0.039953  0.259640  1.000000  0.941358  0.308533   \n",
              "os            -0.023048  0.226790  0.941358  1.000000  0.311040   \n",
              "channel       -0.050300  0.107046  0.308533  0.311040  1.000000   \n",
              "is_attributed  0.265618 -0.073228 -0.100962 -0.075783 -0.053061   \n",
              "month               NaN       NaN       NaN       NaN       NaN   \n",
              "day_of_year    0.052310 -0.032247  0.066179  0.100573  0.084572   \n",
              "hour           0.046410 -0.016864  0.055247  0.089573  0.217922   \n",
              "day_of_week1  -0.042622  0.003283  0.086951  0.051760 -0.119612   \n",
              "\n",
              "               is_attributed  month  day_of_year      hour  day_of_week1  \n",
              "ip                  0.265618    NaN     0.052310  0.046410     -0.042622  \n",
              "app                -0.073228    NaN    -0.032247 -0.016864      0.003283  \n",
              "device             -0.100962    NaN     0.066179  0.055247      0.086951  \n",
              "os                 -0.075783    NaN     0.100573  0.089573      0.051760  \n",
              "channel            -0.053061    NaN     0.084572  0.217922     -0.119612  \n",
              "is_attributed       1.000000    NaN     0.007027  0.066289     -0.078475  \n",
              "month                    NaN    NaN          NaN       NaN           NaN  \n",
              "day_of_year         0.007027    NaN     1.000000 -0.244106      0.092621  \n",
              "hour                0.066289    NaN    -0.244106  1.000000     -0.210705  \n",
              "day_of_week1       -0.078475    NaN     0.092621 -0.210705      1.000000  "
            ],
            "text/html": [
              "\n",
              "  <div id=\"df-7dcff115-bbc7-4d84-a37b-9dcfe4e10670\">\n",
              "    <div class=\"colab-df-container\">\n",
              "      <div>\n",
              "<style scoped>\n",
              "    .dataframe tbody tr th:only-of-type {\n",
              "        vertical-align: middle;\n",
              "    }\n",
              "\n",
              "    .dataframe tbody tr th {\n",
              "        vertical-align: top;\n",
              "    }\n",
              "\n",
              "    .dataframe thead th {\n",
              "        text-align: right;\n",
              "    }\n",
              "</style>\n",
              "<table border=\"1\" class=\"dataframe\">\n",
              "  <thead>\n",
              "    <tr style=\"text-align: right;\">\n",
              "      <th></th>\n",
              "      <th>ip</th>\n",
              "      <th>app</th>\n",
              "      <th>device</th>\n",
              "      <th>os</th>\n",
              "      <th>channel</th>\n",
              "      <th>is_attributed</th>\n",
              "      <th>month</th>\n",
              "      <th>day_of_year</th>\n",
              "      <th>hour</th>\n",
              "      <th>day_of_week1</th>\n",
              "    </tr>\n",
              "  </thead>\n",
              "  <tbody>\n",
              "    <tr>\n",
              "      <th>ip</th>\n",
              "      <td>1.000000</td>\n",
              "      <td>0.014183</td>\n",
              "      <td>-0.039953</td>\n",
              "      <td>-0.023048</td>\n",
              "      <td>-0.050300</td>\n",
              "      <td>0.265618</td>\n",
              "      <td>NaN</td>\n",
              "      <td>0.052310</td>\n",
              "      <td>0.046410</td>\n",
              "      <td>-0.042622</td>\n",
              "    </tr>\n",
              "    <tr>\n",
              "      <th>app</th>\n",
              "      <td>0.014183</td>\n",
              "      <td>1.000000</td>\n",
              "      <td>0.259640</td>\n",
              "      <td>0.226790</td>\n",
              "      <td>0.107046</td>\n",
              "      <td>-0.073228</td>\n",
              "      <td>NaN</td>\n",
              "      <td>-0.032247</td>\n",
              "      <td>-0.016864</td>\n",
              "      <td>0.003283</td>\n",
              "    </tr>\n",
              "    <tr>\n",
              "      <th>device</th>\n",
              "      <td>-0.039953</td>\n",
              "      <td>0.259640</td>\n",
              "      <td>1.000000</td>\n",
              "      <td>0.941358</td>\n",
              "      <td>0.308533</td>\n",
              "      <td>-0.100962</td>\n",
              "      <td>NaN</td>\n",
              "      <td>0.066179</td>\n",
              "      <td>0.055247</td>\n",
              "      <td>0.086951</td>\n",
              "    </tr>\n",
              "    <tr>\n",
              "      <th>os</th>\n",
              "      <td>-0.023048</td>\n",
              "      <td>0.226790</td>\n",
              "      <td>0.941358</td>\n",
              "      <td>1.000000</td>\n",
              "      <td>0.311040</td>\n",
              "      <td>-0.075783</td>\n",
              "      <td>NaN</td>\n",
              "      <td>0.100573</td>\n",
              "      <td>0.089573</td>\n",
              "      <td>0.051760</td>\n",
              "    </tr>\n",
              "    <tr>\n",
              "      <th>channel</th>\n",
              "      <td>-0.050300</td>\n",
              "      <td>0.107046</td>\n",
              "      <td>0.308533</td>\n",
              "      <td>0.311040</td>\n",
              "      <td>1.000000</td>\n",
              "      <td>-0.053061</td>\n",
              "      <td>NaN</td>\n",
              "      <td>0.084572</td>\n",
              "      <td>0.217922</td>\n",
              "      <td>-0.119612</td>\n",
              "    </tr>\n",
              "    <tr>\n",
              "      <th>is_attributed</th>\n",
              "      <td>0.265618</td>\n",
              "      <td>-0.073228</td>\n",
              "      <td>-0.100962</td>\n",
              "      <td>-0.075783</td>\n",
              "      <td>-0.053061</td>\n",
              "      <td>1.000000</td>\n",
              "      <td>NaN</td>\n",
              "      <td>0.007027</td>\n",
              "      <td>0.066289</td>\n",
              "      <td>-0.078475</td>\n",
              "    </tr>\n",
              "    <tr>\n",
              "      <th>month</th>\n",
              "      <td>NaN</td>\n",
              "      <td>NaN</td>\n",
              "      <td>NaN</td>\n",
              "      <td>NaN</td>\n",
              "      <td>NaN</td>\n",
              "      <td>NaN</td>\n",
              "      <td>NaN</td>\n",
              "      <td>NaN</td>\n",
              "      <td>NaN</td>\n",
              "      <td>NaN</td>\n",
              "    </tr>\n",
              "    <tr>\n",
              "      <th>day_of_year</th>\n",
              "      <td>0.052310</td>\n",
              "      <td>-0.032247</td>\n",
              "      <td>0.066179</td>\n",
              "      <td>0.100573</td>\n",
              "      <td>0.084572</td>\n",
              "      <td>0.007027</td>\n",
              "      <td>NaN</td>\n",
              "      <td>1.000000</td>\n",
              "      <td>-0.244106</td>\n",
              "      <td>0.092621</td>\n",
              "    </tr>\n",
              "    <tr>\n",
              "      <th>hour</th>\n",
              "      <td>0.046410</td>\n",
              "      <td>-0.016864</td>\n",
              "      <td>0.055247</td>\n",
              "      <td>0.089573</td>\n",
              "      <td>0.217922</td>\n",
              "      <td>0.066289</td>\n",
              "      <td>NaN</td>\n",
              "      <td>-0.244106</td>\n",
              "      <td>1.000000</td>\n",
              "      <td>-0.210705</td>\n",
              "    </tr>\n",
              "    <tr>\n",
              "      <th>day_of_week1</th>\n",
              "      <td>-0.042622</td>\n",
              "      <td>0.003283</td>\n",
              "      <td>0.086951</td>\n",
              "      <td>0.051760</td>\n",
              "      <td>-0.119612</td>\n",
              "      <td>-0.078475</td>\n",
              "      <td>NaN</td>\n",
              "      <td>0.092621</td>\n",
              "      <td>-0.210705</td>\n",
              "      <td>1.000000</td>\n",
              "    </tr>\n",
              "  </tbody>\n",
              "</table>\n",
              "</div>\n",
              "      <button class=\"colab-df-convert\" onclick=\"convertToInteractive('df-7dcff115-bbc7-4d84-a37b-9dcfe4e10670')\"\n",
              "              title=\"Convert this dataframe to an interactive table.\"\n",
              "              style=\"display:none;\">\n",
              "        \n",
              "  <svg xmlns=\"http://www.w3.org/2000/svg\" height=\"24px\"viewBox=\"0 0 24 24\"\n",
              "       width=\"24px\">\n",
              "    <path d=\"M0 0h24v24H0V0z\" fill=\"none\"/>\n",
              "    <path d=\"M18.56 5.44l.94 2.06.94-2.06 2.06-.94-2.06-.94-.94-2.06-.94 2.06-2.06.94zm-11 1L8.5 8.5l.94-2.06 2.06-.94-2.06-.94L8.5 2.5l-.94 2.06-2.06.94zm10 10l.94 2.06.94-2.06 2.06-.94-2.06-.94-.94-2.06-.94 2.06-2.06.94z\"/><path d=\"M17.41 7.96l-1.37-1.37c-.4-.4-.92-.59-1.43-.59-.52 0-1.04.2-1.43.59L10.3 9.45l-7.72 7.72c-.78.78-.78 2.05 0 2.83L4 21.41c.39.39.9.59 1.41.59.51 0 1.02-.2 1.41-.59l7.78-7.78 2.81-2.81c.8-.78.8-2.07 0-2.86zM5.41 20L4 18.59l7.72-7.72 1.47 1.35L5.41 20z\"/>\n",
              "  </svg>\n",
              "      </button>\n",
              "      \n",
              "  <style>\n",
              "    .colab-df-container {\n",
              "      display:flex;\n",
              "      flex-wrap:wrap;\n",
              "      gap: 12px;\n",
              "    }\n",
              "\n",
              "    .colab-df-convert {\n",
              "      background-color: #E8F0FE;\n",
              "      border: none;\n",
              "      border-radius: 50%;\n",
              "      cursor: pointer;\n",
              "      display: none;\n",
              "      fill: #1967D2;\n",
              "      height: 32px;\n",
              "      padding: 0 0 0 0;\n",
              "      width: 32px;\n",
              "    }\n",
              "\n",
              "    .colab-df-convert:hover {\n",
              "      background-color: #E2EBFA;\n",
              "      box-shadow: 0px 1px 2px rgba(60, 64, 67, 0.3), 0px 1px 3px 1px rgba(60, 64, 67, 0.15);\n",
              "      fill: #174EA6;\n",
              "    }\n",
              "\n",
              "    [theme=dark] .colab-df-convert {\n",
              "      background-color: #3B4455;\n",
              "      fill: #D2E3FC;\n",
              "    }\n",
              "\n",
              "    [theme=dark] .colab-df-convert:hover {\n",
              "      background-color: #434B5C;\n",
              "      box-shadow: 0px 1px 3px 1px rgba(0, 0, 0, 0.15);\n",
              "      filter: drop-shadow(0px 1px 2px rgba(0, 0, 0, 0.3));\n",
              "      fill: #FFFFFF;\n",
              "    }\n",
              "  </style>\n",
              "\n",
              "      <script>\n",
              "        const buttonEl =\n",
              "          document.querySelector('#df-7dcff115-bbc7-4d84-a37b-9dcfe4e10670 button.colab-df-convert');\n",
              "        buttonEl.style.display =\n",
              "          google.colab.kernel.accessAllowed ? 'block' : 'none';\n",
              "\n",
              "        async function convertToInteractive(key) {\n",
              "          const element = document.querySelector('#df-7dcff115-bbc7-4d84-a37b-9dcfe4e10670');\n",
              "          const dataTable =\n",
              "            await google.colab.kernel.invokeFunction('convertToInteractive',\n",
              "                                                     [key], {});\n",
              "          if (!dataTable) return;\n",
              "\n",
              "          const docLinkHtml = 'Like what you see? Visit the ' +\n",
              "            '<a target=\"_blank\" href=https://colab.research.google.com/notebooks/data_table.ipynb>data table notebook</a>'\n",
              "            + ' to learn more about interactive tables.';\n",
              "          element.innerHTML = '';\n",
              "          dataTable['output_type'] = 'display_data';\n",
              "          await google.colab.output.renderOutput(dataTable, element);\n",
              "          const docLink = document.createElement('div');\n",
              "          docLink.innerHTML = docLinkHtml;\n",
              "          element.appendChild(docLink);\n",
              "        }\n",
              "      </script>\n",
              "    </div>\n",
              "  </div>\n",
              "  "
            ]
          },
          "metadata": {},
          "execution_count": 47
        }
      ]
    },
    {
      "cell_type": "code",
      "metadata": {
        "colab": {
          "base_uri": "https://localhost:8080/",
          "height": 717
        },
        "id": "A8PHmfWpPEP-",
        "outputId": "f888304f-eaee-4605-8a37-18a06bbc4673"
      },
      "source": [
        "plt.figure(figsize=(12,12))\n",
        "sns.heatmap(corr, annot=True, cmap='cubehelix_r',square=True) \n",
        "plt.show()"
      ],
      "execution_count": null,
      "outputs": [
        {
          "output_type": "display_data",
          "data": {
            "text/plain": [
              "<Figure size 864x864 with 2 Axes>"
            ],
            "image/png": "[encoded data removed]"
          },
          "metadata": {}
        }
      ]
    },
    {
      "cell_type": "code",
      "metadata": {
        "colab": {
          "base_uri": "https://localhost:8080/"
        },
        "id": "czlrL7dNPOAx",
        "outputId": "c905fd85-a810-4caa-e3e2-a6dd2be5550f"
      },
      "source": [
        "abs(corr['is_attributed'])[:5].sort_values(ascending = False)"
      ],
      "execution_count": null,
      "outputs": [
        {
          "output_type": "execute_result",
          "data": {
            "text/plain": [
              "ip         0.265618\n",
              "device     0.100962\n",
              "os         0.075783\n",
              "app        0.073228\n",
              "channel    0.053061\n",
              "Name: is_attributed, dtype: float64"
            ]
          },
          "metadata": {},
          "execution_count": 49
        }
      ]
    },
    {
      "cell_type": "code",
      "metadata": {
        "colab": {
          "base_uri": "https://localhost:8080/",
          "height": 206
        },
        "id": "CGSqlklAMbV-",
        "outputId": "b28dc4c0-cf46-4e36-c1e8-7a075c3f9ce3"
      },
      "source": [
        "df = df.select_dtypes(include=['float64','int64'])\n",
        "df.head()"
      ],
      "execution_count": null,
      "outputs": [
        {
          "output_type": "execute_result",
          "data": {
            "text/plain": [
              "          ip  app  device   os  channel  is_attributed  month  day_of_year  \\\n",
              "497     7435  125       0    0      110              0     11            8   \n",
              "516    73516  204    3543  748      347              0     11            8   \n",
              "700    93620  202       1   22      421              0     11            7   \n",
              "1613  118383  103       1   13      379              0     11            9   \n",
              "2034   50474  208       1   19      330              0     11            7   \n",
              "\n",
              "      hour  day_of_week1  \n",
              "497     11             3  \n",
              "516     14             3  \n",
              "700     12             2  \n",
              "1613    15             1  \n",
              "2034     1             2  "
            ],
            "text/html": [
              "\n",
              "  <div id=\"df-5e055064-1984-401f-9711-01eac18b0347\">\n",
              "    <div class=\"colab-df-container\">\n",
              "      <div>\n",
              "<style scoped>\n",
              "    .dataframe tbody tr th:only-of-type {\n",
              "        vertical-align: middle;\n",
              "    }\n",
              "\n",
              "    .dataframe tbody tr th {\n",
              "        vertical-align: top;\n",
              "    }\n",
              "\n",
              "    .dataframe thead th {\n",
              "        text-align: right;\n",
              "    }\n",
              "</style>\n",
              "<table border=\"1\" class=\"dataframe\">\n",
              "  <thead>\n",
              "    <tr style=\"text-align: right;\">\n",
              "      <th></th>\n",
              "      <th>ip</th>\n",
              "      <th>app</th>\n",
              "      <th>device</th>\n",
              "      <th>os</th>\n",
              "      <th>channel</th>\n",
              "      <th>is_attributed</th>\n",
              "      <th>month</th>\n",
              "      <th>day_of_year</th>\n",
              "      <th>hour</th>\n",
              "      <th>day_of_week1</th>\n",
              "    </tr>\n",
              "  </thead>\n",
              "  <tbody>\n",
              "    <tr>\n",
              "      <th>497</th>\n",
              "      <td>7435</td>\n",
              "      <td>125</td>\n",
              "      <td>0</td>\n",
              "      <td>0</td>\n",
              "      <td>110</td>\n",
              "      <td>0</td>\n",
              "      <td>11</td>\n",
              "      <td>8</td>\n",
              "      <td>11</td>\n",
              "      <td>3</td>\n",
              "    </tr>\n",
              "    <tr>\n",
              "      <th>516</th>\n",
              "      <td>73516</td>\n",
              "      <td>204</td>\n",
              "      <td>3543</td>\n",
              "      <td>748</td>\n",
              "      <td>347</td>\n",
              "      <td>0</td>\n",
              "      <td>11</td>\n",
              "      <td>8</td>\n",
              "      <td>14</td>\n",
              "      <td>3</td>\n",
              "    </tr>\n",
              "    <tr>\n",
              "      <th>700</th>\n",
              "      <td>93620</td>\n",
              "      <td>202</td>\n",
              "      <td>1</td>\n",
              "      <td>22</td>\n",
              "      <td>421</td>\n",
              "      <td>0</td>\n",
              "      <td>11</td>\n",
              "      <td>7</td>\n",
              "      <td>12</td>\n",
              "      <td>2</td>\n",
              "    </tr>\n",
              "    <tr>\n",
              "      <th>1613</th>\n",
              "      <td>118383</td>\n",
              "      <td>103</td>\n",
              "      <td>1</td>\n",
              "      <td>13</td>\n",
              "      <td>379</td>\n",
              "      <td>0</td>\n",
              "      <td>11</td>\n",
              "      <td>9</td>\n",
              "      <td>15</td>\n",
              "      <td>1</td>\n",
              "    </tr>\n",
              "    <tr>\n",
              "      <th>2034</th>\n",
              "      <td>50474</td>\n",
              "      <td>208</td>\n",
              "      <td>1</td>\n",
              "      <td>19</td>\n",
              "      <td>330</td>\n",
              "      <td>0</td>\n",
              "      <td>11</td>\n",
              "      <td>7</td>\n",
              "      <td>1</td>\n",
              "      <td>2</td>\n",
              "    </tr>\n",
              "  </tbody>\n",
              "</table>\n",
              "</div>\n",
              "      <button class=\"colab-df-convert\" onclick=\"convertToInteractive('df-5e055064-1984-401f-9711-01eac18b0347')\"\n",
              "              title=\"Convert this dataframe to an interactive table.\"\n",
              "              style=\"display:none;\">\n",
              "        \n",
              "  <svg xmlns=\"http://www.w3.org/2000/svg\" height=\"24px\"viewBox=\"0 0 24 24\"\n",
              "       width=\"24px\">\n",
              "    <path d=\"M0 0h24v24H0V0z\" fill=\"none\"/>\n",
              "    <path d=\"M18.56 5.44l.94 2.06.94-2.06 2.06-.94-2.06-.94-.94-2.06-.94 2.06-2.06.94zm-11 1L8.5 8.5l.94-2.06 2.06-.94-2.06-.94L8.5 2.5l-.94 2.06-2.06.94zm10 10l.94 2.06.94-2.06 2.06-.94-2.06-.94-.94-2.06-.94 2.06-2.06.94z\"/><path d=\"M17.41 7.96l-1.37-1.37c-.4-.4-.92-.59-1.43-.59-.52 0-1.04.2-1.43.59L10.3 9.45l-7.72 7.72c-.78.78-.78 2.05 0 2.83L4 21.41c.39.39.9.59 1.41.59.51 0 1.02-.2 1.41-.59l7.78-7.78 2.81-2.81c.8-.78.8-2.07 0-2.86zM5.41 20L4 18.59l7.72-7.72 1.47 1.35L5.41 20z\"/>\n",
              "  </svg>\n",
              "      </button>\n",
              "      \n",
              "  <style>\n",
              "    .colab-df-container {\n",
              "      display:flex;\n",
              "      flex-wrap:wrap;\n",
              "      gap: 12px;\n",
              "    }\n",
              "\n",
              "    .colab-df-convert {\n",
              "      background-color: #E8F0FE;\n",
              "      border: none;\n",
              "      border-radius: 50%;\n",
              "      cursor: pointer;\n",
              "      display: none;\n",
              "      fill: #1967D2;\n",
              "      height: 32px;\n",
              "      padding: 0 0 0 0;\n",
              "      width: 32px;\n",
              "    }\n",
              "\n",
              "    .colab-df-convert:hover {\n",
              "      background-color: #E2EBFA;\n",
              "      box-shadow: 0px 1px 2px rgba(60, 64, 67, 0.3), 0px 1px 3px 1px rgba(60, 64, 67, 0.15);\n",
              "      fill: #174EA6;\n",
              "    }\n",
              "\n",
              "    [theme=dark] .colab-df-convert {\n",
              "      background-color: #3B4455;\n",
              "      fill: #D2E3FC;\n",
              "    }\n",
              "\n",
              "    [theme=dark] .colab-df-convert:hover {\n",
              "      background-color: #434B5C;\n",
              "      box-shadow: 0px 1px 3px 1px rgba(0, 0, 0, 0.15);\n",
              "      filter: drop-shadow(0px 1px 2px rgba(0, 0, 0, 0.3));\n",
              "      fill: #FFFFFF;\n",
              "    }\n",
              "  </style>\n",
              "\n",
              "      <script>\n",
              "        const buttonEl =\n",
              "          document.querySelector('#df-5e055064-1984-401f-9711-01eac18b0347 button.colab-df-convert');\n",
              "        buttonEl.style.display =\n",
              "          google.colab.kernel.accessAllowed ? 'block' : 'none';\n",
              "\n",
              "        async function convertToInteractive(key) {\n",
              "          const element = document.querySelector('#df-5e055064-1984-401f-9711-01eac18b0347');\n",
              "          const dataTable =\n",
              "            await google.colab.kernel.invokeFunction('convertToInteractive',\n",
              "                                                     [key], {});\n",
              "          if (!dataTable) return;\n",
              "\n",
              "          const docLinkHtml = 'Like what you see? Visit the ' +\n",
              "            '<a target=\"_blank\" href=https://colab.research.google.com/notebooks/data_table.ipynb>data table notebook</a>'\n",
              "            + ' to learn more about interactive tables.';\n",
              "          element.innerHTML = '';\n",
              "          dataTable['output_type'] = 'display_data';\n",
              "          await google.colab.output.renderOutput(dataTable, element);\n",
              "          const docLink = document.createElement('div');\n",
              "          docLink.innerHTML = docLinkHtml;\n",
              "          element.appendChild(docLink);\n",
              "        }\n",
              "      </script>\n",
              "    </div>\n",
              "  </div>\n",
              "  "
            ]
          },
          "metadata": {},
          "execution_count": 50
        }
      ]
    },
    {
      "cell_type": "markdown",
      "metadata": {
        "id": "IV3EmxMmtDu2"
      },
      "source": [
        "###### **Divide the data into training and testing subsets into 80:20 ratio(Train_data = 80% , Testing_data = 20%) and check the average download rates('is_attributed') for train and test data, scores should be comparable**"
      ]
    },
    {
      "cell_type": "code",
      "metadata": {
        "id": "QMhSStzVTsQI"
      },
      "source": [
        "from sklearn.model_selection import train_test_split # # Import Sklearn package's data splitting function\n",
        "from sklearn import metrics\n",
        "from sklearn import preprocessing\n",
        "\n",
        "X = df.drop(['is_attributed'], axis=1)\n",
        "y = df['is_attributed']\n",
        "\n",
        "# Split X and y into training and test set in 70:30 ratio\n",
        "\n",
        "X_train, X_test, y_train, y_test = train_test_split(X, y, test_size=0.2, random_state=10)"
      ],
      "execution_count": null,
      "outputs": []
    },
    {
      "cell_type": "code",
      "metadata": {
        "id": "QbKJn__uZcr2"
      },
      "source": [
        "import xgboost as xgb\n",
        "import pandas as pd\n",
        "from xgboost import XGBClassifier\n",
        "from sklearn.metrics import accuracy_score\n",
        "model=xgb.XGBClassifier(random_state=1,learning_rate=0.01)\n"
      ],
      "execution_count": null,
      "outputs": []
    },
    {
      "cell_type": "code",
      "metadata": {
        "colab": {
          "base_uri": "https://localhost:8080/"
        },
        "id": "Py1iGNIzhVQ1",
        "outputId": "c4f720a9-a18f-4fe4-aa6b-00100a840c5a"
      },
      "source": [
        "xgbl = XGBClassifier( n_estimators=10)\n",
        "xgbl = xgbl.fit(X_train, y_train)\n",
        "\n",
        "test_pred = xgbl.predict(X_test)\n",
        "xgbl_score=xgbl.score(X_test, y_test)\n",
        "print(\"The  Ensemble model accuracy is {}\".format(xgbl_score))\n",
        "print(\"The confusion matrix of XGB model is\")\n",
        "print(metrics.confusion_matrix(y_test,test_pred))\n",
        "test_prob = xgbl.predict_proba(X_test)\n",
        "print(test_prob[:10])"
      ],
      "execution_count": null,
      "outputs": [
        {
          "output_type": "stream",
          "name": "stdout",
          "text": [
            "The  Ensemble model accuracy is 0.9883720930232558\n",
            "The confusion matrix of XGB model is\n",
            "[[85  0]\n",
            " [ 1  0]]\n",
            "[[0.81044686 0.18955314]\n",
            " [0.81044686 0.18955314]\n",
            " [0.81044686 0.18955314]\n",
            " [0.81044686 0.18955314]\n",
            " [0.8058529  0.19414711]\n",
            " [0.8058529  0.19414711]\n",
            " [0.81044686 0.18955314]\n",
            " [0.81044686 0.18955314]\n",
            " [0.81044686 0.18955314]\n",
            " [0.8058529  0.19414711]]\n"
          ]
        }
      ]
    },
    {
      "cell_type": "code",
      "metadata": {
        "colab": {
          "base_uri": "https://localhost:8080/",
          "height": 424
        },
        "id": "bfxtbMf5GILb",
        "outputId": "d843de21-aafd-49e7-92a7-0653e84dbe60"
      },
      "source": [
        "# xgboost for feature importance on a classification problem\n",
        "from sklearn.datasets import make_classification\n",
        "from xgboost import XGBClassifier\n",
        "from matplotlib import pyplot\n",
        "# define the model\n",
        "model = XGBClassifier()\n",
        "# fit the model\n",
        "model.fit(X, y)\n",
        "# get importance\n",
        "importance = xgbl.feature_importances_\n",
        "# summarize feature importance\n",
        "for i,v in enumerate(importance):\n",
        " print('Feature: %0d, Score: %.5f' % (i,v))\n",
        "# plot feature importance\n",
        "pyplot.bar([x for x in range(len(importance))], importance)\n",
        "pyplot.show()"
      ],
      "execution_count": null,
      "outputs": [
        {
          "output_type": "stream",
          "name": "stdout",
          "text": [
            "Feature: 0, Score: 0.42084\n",
            "Feature: 1, Score: 0.03419\n",
            "Feature: 2, Score: 0.00000\n",
            "Feature: 3, Score: 0.00000\n",
            "Feature: 4, Score: 0.54498\n",
            "Feature: 5, Score: 0.00000\n",
            "Feature: 6, Score: 0.00000\n",
            "Feature: 7, Score: 0.00000\n",
            "Feature: 8, Score: 0.00000\n"
          ]
        },
        {
          "output_type": "display_data",
          "data": {
            "text/plain": [
              "<Figure size 432x288 with 1 Axes>"
            ],
            "image/png": "[encoded data removed]"
          },
          "metadata": {}
        }
      ]
    },
    {
      "cell_type": "code",
      "metadata": {
        "id": "L7ZvT06Pmk6s"
      },
      "source": [
        "y_pred=xgbl.predict_proba(X_test)"
      ],
      "execution_count": null,
      "outputs": []
    },
    {
      "cell_type": "code",
      "metadata": {
        "id": "wcGcBNqhW_2E"
      },
      "source": [
        "!pip install scikit-plot"
      ],
      "execution_count": null,
      "outputs": []
    },
    {
      "cell_type": "markdown",
      "metadata": {
        "id": "n0zhpVCHtNTZ"
      },
      "source": [
        "###### **Apply XGBoostClassifier with default parameters on training data and make first 10 prediction for Test data.**"
      ]
    },
    {
      "cell_type": "code",
      "metadata": {
        "colab": {
          "base_uri": "https://localhost:8080/"
        },
        "id": "CBdSdIpebYN-",
        "outputId": "f42a208d-431c-4c69-8515-9c7e031cc320"
      },
      "source": [
        "from sklearn.ensemble import BaggingClassifier \n",
        "\n",
        "bgcl = BaggingClassifier(n_estimators=10, max_samples= .7, bootstrap=True)\n",
        "bgcl = bgcl.fit(X_train, y_train)\n",
        "test_pred = bgcl.predict(X_test)\n",
        "bgcl_score=bgcl.score(X_test, y_test)\n",
        "print(\"The Bagging classifier model accuracy is {}\".format(bgcl_score))\n",
        "print(\"The confusion matrix of Bagging classifier model is\")\n",
        "print(metrics.confusion_matrix(y_test,test_pred))"
      ],
      "execution_count": null,
      "outputs": [
        {
          "output_type": "stream",
          "name": "stdout",
          "text": [
            "The Bagging classifier model accuracy is 0.9767441860465116\n",
            "The confusion matrix of Bagging classifier model is\n",
            "[[84  1]\n",
            " [ 1  0]]\n"
          ]
        }
      ]
    },
    {
      "cell_type": "markdown",
      "metadata": {
        "id": "Sg4MvEIytcMt"
      },
      "source": [
        "###### **Compute feature importance score and name the top 5 features/column**"
      ]
    },
    {
      "cell_type": "code",
      "metadata": {
        "colab": {
          "base_uri": "https://localhost:8080/"
        },
        "id": "YjFuOzshb2sG",
        "outputId": "c09e26c2-4913-4525-f446-6b92d206de97"
      },
      "source": [
        "test_prob = bgcl.predict_proba(X_test)\n",
        "print(test_prob[:10])"
      ],
      "execution_count": null,
      "outputs": [
        {
          "output_type": "stream",
          "name": "stdout",
          "text": [
            "[[1.  0. ]\n",
            " [1.  0. ]\n",
            " [1.  0. ]\n",
            " [0.7 0.3]\n",
            " [1.  0. ]\n",
            " [1.  0. ]\n",
            " [1.  0. ]\n",
            " [1.  0. ]\n",
            " [1.  0. ]\n",
            " [1.  0. ]]\n"
          ]
        }
      ]
    },
    {
      "cell_type": "code",
      "metadata": {
        "id": "QWdIL1Pobs92"
      },
      "source": [
        "y_predb=bgcl.predict_proba(X_test)"
      ],
      "execution_count": null,
      "outputs": []
    },
    {
      "cell_type": "markdown",
      "metadata": {
        "id": "SHI57G6Oti_G"
      },
      "source": [
        "###### **What is the accuracy for BaggingClassifier and XGBoostClassifier?()**"
      ]
    },
    {
      "cell_type": "code",
      "metadata": {
        "colab": {
          "base_uri": "https://localhost:8080/"
        },
        "id": "ydhHeoO_YOOa",
        "outputId": "6d0d1180-b650-4d0b-f529-58a03b59a193"
      },
      "source": [
        "from sklearn.metrics import roc_auc_score\n",
        "auc = roc_auc_score(y_test,y_pred[:,1])\n",
        "print(\"for XGB Classifier auc the score is\",auc)"
      ],
      "execution_count": null,
      "outputs": [
        {
          "output_type": "stream",
          "name": "stdout",
          "text": [
            "for XGB Classifier auc the score is 0.8941176470588235\n"
          ]
        }
      ]
    },
    {
      "cell_type": "code",
      "metadata": {
        "colab": {
          "base_uri": "https://localhost:8080/"
        },
        "id": "0Z8fK2jj-QWD",
        "outputId": "f8141924-b68d-4782-f025-60b37ec06368"
      },
      "source": [
        "from sklearn.metrics import roc_auc_score\n",
        "auc = roc_auc_score(y_test,y_predb[:,1])\n",
        "print(\"for baggingClassifier Classifier the auc score is\",auc)"
      ],
      "execution_count": null,
      "outputs": [
        {
          "output_type": "stream",
          "name": "stdout",
          "text": [
            "for baggingClassifier Classifier the auc score is 0.9294117647058824\n"
          ]
        }
      ]
    },
    {
      "cell_type": "markdown",
      "source": [
        "###### **Result Analysis:** The main takeaway is that Bagging and Boosting are a machine learning paradigm in which we use multiple models to solve the same problem and get a better performance And if we combine weak learners properly, then we can obtain a stable, accurate and robust model.Here the Bosting accuracy is 89% and Bagging accuracy is 92%.Hence Bagging has more accurate results on the dataset rather than Bosting. "
      ],
      "metadata": {
        "id": "SrUUs85f0Iq7"
      }
    },
    {
      "cell_type": "markdown",
      "source": [
        "###### **Conclusion**:Hence We ave sucessfully learned and implemented Esemble Learning."
      ],
      "metadata": {
        "id": "dPxEuxu-00Bi"
      }
    }
  ]
}